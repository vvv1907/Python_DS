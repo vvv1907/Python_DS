{
 "cells": [
  {
   "cell_type": "markdown",
   "metadata": {},
   "source": [
    "## Exercise 04 : A/B test"
   ]
  },
  {
   "cell_type": "markdown",
   "metadata": {},
   "source": [
    "### Import and connection"
   ]
  },
  {
   "cell_type": "code",
   "execution_count": 1,
   "metadata": {},
   "outputs": [
    {
     "name": "stdout",
     "output_type": "stream",
     "text": [
      "OK. Connected to sqlite\n"
     ]
    }
   ],
   "source": [
    "import pandas as pd\n",
    "import sqlite3\n",
    "\n",
    "try:\n",
    "  connect = sqlite3.connect('../data/checking-logs.sqlite.sqlite_copy')\n",
    "  print('OK. Connected to sqlite')\n",
    "\n",
    "except sqlite3.Error as error:\n",
    "  print('Error with connection:', error)"
   ]
  },
  {
   "cell_type": "code",
   "execution_count": 2,
   "metadata": {},
   "outputs": [
    {
     "data": {
      "text/html": [
       "<div>\n",
       "<style scoped>\n",
       "    .dataframe tbody tr th:only-of-type {\n",
       "        vertical-align: middle;\n",
       "    }\n",
       "\n",
       "    .dataframe tbody tr th {\n",
       "        vertical-align: top;\n",
       "    }\n",
       "\n",
       "    .dataframe thead th {\n",
       "        text-align: right;\n",
       "    }\n",
       "</style>\n",
       "<table border=\"1\" class=\"dataframe\">\n",
       "  <thead>\n",
       "    <tr style=\"text-align: right;\">\n",
       "      <th></th>\n",
       "      <th>time</th>\n",
       "      <th>avg_diff</th>\n",
       "    </tr>\n",
       "  </thead>\n",
       "  <tbody>\n",
       "    <tr>\n",
       "      <th>0</th>\n",
       "      <td>after</td>\n",
       "      <td>104.6000</td>\n",
       "    </tr>\n",
       "    <tr>\n",
       "      <th>1</th>\n",
       "      <td>before</td>\n",
       "      <td>60.5625</td>\n",
       "    </tr>\n",
       "  </tbody>\n",
       "</table>\n",
       "</div>"
      ],
      "text/plain": [
       "     time  avg_diff\n",
       "0   after  104.6000\n",
       "1  before   60.5625"
      ]
     },
     "execution_count": 2,
     "metadata": {},
     "output_type": "execute_result"
    }
   ],
   "source": [
    "query = '''\n",
    "SELECT time,\n",
    "       avg(diff) AS avg_diff\n",
    "FROM (SELECT uid,\n",
    "             CAST( (JulianDay(datetime(deadlines.deadlines, 'unixepoch')) -\n",
    "                    JulianDay(test.first_commit_ts)\n",
    "                    ) * 24 as Integer\n",
    "                  ) as diff,\n",
    "             CASE WHEN test.first_commit_ts < test.first_view_ts THEN 'before'\n",
    "             ELSE 'after' END AS time\n",
    "       FROM test left join deadlines on test.labname = deadlines.labs\n",
    "       WHERE labname <> 'project1'\n",
    "      )\n",
    "WHERE uid in (SELECT uid\n",
    "              FROM (SELECT uid,\n",
    "                           CASE WHEN test.first_commit_ts < test.first_view_ts THEN 'before'\n",
    "                           ELSE 'after' END as time\n",
    "                    FROM test\n",
    "                    LEFT JOIN deadlines ON test.labname=deadlines.labs\n",
    "                    WHERE labname <> 'project1'\n",
    "                    )\n",
    "               GROUP BY uid\n",
    "               HAVING COUNT(DISTINCT time)=2\n",
    "               )\n",
    "GROUP BY time\n",
    "'''\n",
    "test_results = pd.io.sql.read_sql(query, connect)\n",
    "test_results"
   ]
  },
  {
   "cell_type": "code",
   "execution_count": 3,
   "metadata": {},
   "outputs": [
    {
     "data": {
      "text/html": [
       "<div>\n",
       "<style scoped>\n",
       "    .dataframe tbody tr th:only-of-type {\n",
       "        vertical-align: middle;\n",
       "    }\n",
       "\n",
       "    .dataframe tbody tr th {\n",
       "        vertical-align: top;\n",
       "    }\n",
       "\n",
       "    .dataframe thead th {\n",
       "        text-align: right;\n",
       "    }\n",
       "</style>\n",
       "<table border=\"1\" class=\"dataframe\">\n",
       "  <thead>\n",
       "    <tr style=\"text-align: right;\">\n",
       "      <th></th>\n",
       "      <th>time</th>\n",
       "      <th>avg_diff</th>\n",
       "    </tr>\n",
       "  </thead>\n",
       "  <tbody>\n",
       "    <tr>\n",
       "      <th>0</th>\n",
       "      <td>after</td>\n",
       "      <td>117.636364</td>\n",
       "    </tr>\n",
       "    <tr>\n",
       "      <th>1</th>\n",
       "      <td>before</td>\n",
       "      <td>99.464286</td>\n",
       "    </tr>\n",
       "  </tbody>\n",
       "</table>\n",
       "</div>"
      ],
      "text/plain": [
       "     time    avg_diff\n",
       "0   after  117.636364\n",
       "1  before   99.464286"
      ]
     },
     "execution_count": 3,
     "metadata": {},
     "output_type": "execute_result"
    }
   ],
   "source": [
    "query = '''\n",
    "SELECT time,\n",
    "       avg(diff) AS avg_diff\n",
    "FROM (SELECT uid,\n",
    "             CAST( (JulianDay(datetime(deadlines.deadlines, 'unixepoch')) -\n",
    "                    JulianDay(control.first_commit_ts)\n",
    "                    ) * 24 as Integer\n",
    "                  ) as diff,\n",
    "             CASE WHEN control.first_commit_ts < control.first_view_ts THEN 'before'\n",
    "             ELSE 'after'\n",
    "             END AS time\n",
    "             FROM control\n",
    "             LEFT JOIN deadlines ON control.labname=deadlines.labs\n",
    "             WHERE labname <> 'project1'\n",
    "      )\n",
    "WHERE uid IN (SELECT uid\n",
    "              FROM (SELECT uid,\n",
    "                           CASE WHEN control.first_commit_ts < control.first_view_ts THEN 'before'\n",
    "                           ELSE 'after'\n",
    "                           END AS time\n",
    "                    FROM control\n",
    "                    LEFT JOIN deadlines ON control.labname=deadlines.labs\n",
    "                    WHERE labname <> 'project1'\n",
    "                    )\n",
    "              GROUP BY uid\n",
    "              HAVING COUNT(distinct time)=2\n",
    "              )\n",
    "GROUP BY time\n",
    "'''\n",
    "control_results = pd.io.sql.read_sql(query, connect)\n",
    "control_results"
   ]
  },
  {
   "cell_type": "markdown",
   "metadata": {},
   "source": [
    "percent_test = round((test_results.avg_diff[0] - test_results.avg_diff[1]) / test_results.avg_diff[0] * 100, 0)\n",
    "print(percent_test, '%')"
   ]
  },
  {
   "cell_type": "markdown",
   "metadata": {},
   "source": [
    "percent_control = round((control_results.avg_diff[0] - control_results.avg_diff[1]) / control_results.avg_diff[0] * 100, 0)\n",
    "print(percent_control, '%')"
   ]
  },
  {
   "cell_type": "markdown",
   "metadata": {},
   "source": [
    "### Close the connection"
   ]
  },
  {
   "cell_type": "code",
   "execution_count": 4,
   "metadata": {},
   "outputs": [
    {
     "name": "stdout",
     "output_type": "stream",
     "text": [
      "Connection to SQLite closed\n"
     ]
    }
   ],
   "source": [
    "connect.close()\n",
    "print('Connection to SQLite closed')"
   ]
  }
 ],
 "metadata": {
  "interpreter": {
   "hash": "31f2aee4e71d21fbe5cf8b01ff0e069b9275f58929596ceb00d14d90e3e16cd6"
  },
  "kernelspec": {
   "display_name": "Python 3.8.9 64-bit",
   "language": "python",
   "name": "python3"
  },
  "language_info": {
   "codemirror_mode": {
    "name": "ipython",
    "version": 3
   },
   "file_extension": ".py",
   "mimetype": "text/x-python",
   "name": "python",
   "nbconvert_exporter": "python",
   "pygments_lexer": "ipython3",
   "version": "3.8.9"
  },
  "orig_nbformat": 4
 },
 "nbformat": 4,
 "nbformat_minor": 2
}
