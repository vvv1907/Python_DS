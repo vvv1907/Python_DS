{
 "cells": [
  {
   "cell_type": "markdown",
   "metadata": {},
   "source": [
    "# Day 08. Exercise 02\n",
    "# Multiclass classification. One-hot encoding. Random forest"
   ]
  },
  {
   "cell_type": "markdown",
   "metadata": {},
   "source": [
    "## 0. Imports"
   ]
  },
  {
   "cell_type": "code",
   "execution_count": null,
   "metadata": {},
   "outputs": [],
   "source": [
    "import pandas as pd\n",
    "from sklearn.preprocessing import StandardScaler\n",
    "import numpy as np\n",
    "from sklearn.metrics import accuracy_score\n",
    "from sklearn.linear_model import LogisticRegression\n",
    "import matplotlib.pyplot as plt\n",
    "from sklearn.svm import SVC\n",
    "from sklearn.model_selection import GridSearchCV\n",
    "from sklearn.tree import DecisionTreeClassifier\n",
    "from sklearn.ensemble import RandomForestClassifier"
   ]
  },
  {
   "cell_type": "markdown",
   "metadata": {},
   "source": [
    "## 1. Preprocessing"
   ]
  },
  {
   "cell_type": "markdown",
   "metadata": {},
   "source": [
    "1. Read the file [`checker-submits.csv`](https://drive.google.com/file/d/14voc4fNJZiLEFaZyd8nEG-lQt5JjatYw/view?usp=sharing).\n",
    "2. Create a dataframe `df` with the columns: `uid`, `labname`, `numTrials`, `hour`, `dayofweek` where `hour` is extracted from the `timestamp` as well as the `dayofweek` (`0` is Monday, `6` is Sunday). We will try to predict the day of the week having data about which user made a commit for which lab at which hour and which try it was.\n",
    "3. Using `OneHotEncoder()` transform your categorical features, delete from the dataframe the initial columns.\n",
    "4. Use `StandardScaler()` and scale your continuous features.\n",
    "5. Save the dataframe as `dayofweek.csv`.\n",
    "6. Before trying out different algorithms, find out the accuracy of the naive algorithms – the one that predicts everything as the most popular class."
   ]
  },
  {
   "cell_type": "markdown",
   "metadata": {},
   "source": [
    "Создадим датафрейм df со столбцами: uid, labname, numTrials, hour, dayofweek\n",
    "\n",
    "Сначала посмотрим, что в исходном датафрейме"
   ]
  },
  {
   "cell_type": "code",
   "execution_count": null,
   "metadata": {},
   "outputs": [],
   "source": [
    "df = pd.read_csv('../data/checker_submits.csv', parse_dates=['timestamp'])\n",
    "df"
   ]
  },
  {
   "cell_type": "markdown",
   "metadata": {},
   "source": [
    "Переделаем столбцы по заданию"
   ]
  },
  {
   "cell_type": "code",
   "execution_count": null,
   "metadata": {},
   "outputs": [],
   "source": [
    "df['hour'] = df['timestamp'].dt.hour\n",
    "df['dayofweek'] = df['timestamp'].dt.dayofweek\n",
    "df = df.drop('timestamp', axis=1)\n",
    "df"
   ]
  },
  {
   "cell_type": "markdown",
   "metadata": {},
   "source": [
    "Мы попытаемся предсказать день недели, имея данные о том, какой пользователь сделал коммит, для какой лаборатории, в какое время и какая это была попытка.\n",
    "\n",
    "Используя OneHotEncoder(), преобразуем свои категориальные функции, удалим из датафрейма исходные столбцы."
   ]
  },
  {
   "cell_type": "code",
   "execution_count": null,
   "metadata": {},
   "outputs": [],
   "source": [
    "df = pd.get_dummies(df, prefix=['uid', 'labname'], columns=['uid', 'labname'])\n",
    "df"
   ]
  },
  {
   "cell_type": "markdown",
   "metadata": {},
   "source": [
    "Используя StandardScaler(), масштабируем непрерывные функции."
   ]
  },
  {
   "cell_type": "code",
   "execution_count": null,
   "metadata": {},
   "outputs": [],
   "source": [
    "scaler = StandardScaler()\n",
    "df[['numTrials', 'hour']] = scaler.fit_transform(df[['numTrials', 'hour']])\n",
    "df"
   ]
  },
  {
   "cell_type": "markdown",
   "metadata": {},
   "source": [
    "Сохраним датафрейм"
   ]
  },
  {
   "cell_type": "code",
   "execution_count": null,
   "metadata": {},
   "outputs": [],
   "source": [
    "df.to_csv('../data/dayofweek.csv', index=False)"
   ]
  },
  {
   "cell_type": "markdown",
   "metadata": {},
   "source": [
    "Прежде чем пробовать разные алгоритмы, узнаем точность наивного алгоритма — того, который все предсказывает как самый популярный класс."
   ]
  },
  {
   "cell_type": "code",
   "execution_count": null,
   "metadata": {},
   "outputs": [],
   "source": [
    "X = df.drop('dayofweek', axis=1)\n",
    "y = df['dayofweek']\n",
    "y_pred_naive = np.array([np.argmax(np.bincount(y))] * len(y))"
   ]
  },
  {
   "cell_type": "markdown",
   "metadata": {},
   "source": [
    "Разработанный классификатор предсказывает к какому классу принадлежит объект на основании значений его признаков. В результате возможны четыре ситуации:\n",
    "\n",
    "Объект имеет характеристику класса 1 и классификатор определяет характеристику как 1. Это означает, что классификатор сработал верно. Величина TP (True positive) содержит общее количество таких ответов.\n",
    "\n",
    "Объект имеет характеристику класса 0, а классификатор определяет характеристику как 1. Это означает, что классификатор сработал не верно. Величина FP (False positive) содержит общее количество таких ответов.\n",
    "\n",
    "Объект имеет характеристику класса 0 и классификатор определяет характеристику как 0. Это означает, что классификатор сработал верно. Величина TN (True negative) содержит общее количество таких ответов.\n",
    "\n",
    "Объект имеет характеристику класса 1, а классификатор определяет характеристику как 0. Это означает, что классификатор сработал не верно. Величина FN (False negative) содержит общее количество таких ответов.\n",
    "\n",
    "Accuracy определяет долю правильных ответов и считается следующим образом: 𝐴𝑐𝑐𝑢𝑟𝑎𝑐𝑦=𝑇𝑃+𝑇𝑁 / 𝑇𝑃+𝑇𝑁+𝐹𝑃+𝐹𝑁"
   ]
  },
  {
   "cell_type": "code",
   "execution_count": null,
   "metadata": {},
   "outputs": [],
   "source": [
    "accuracy_score(y, y_pred_naive)"
   ]
  },
  {
   "cell_type": "markdown",
   "metadata": {},
   "source": [
    "## 2. Algorithms"
   ]
  },
  {
   "cell_type": "markdown",
   "metadata": {},
   "source": [
    "### a. Logreg"
   ]
  },
  {
   "cell_type": "markdown",
   "metadata": {},
   "source": [
    "1. Train logistic regression, for the baseline model use `random_state=21`, `fit_intercept=False`. \n",
    "2. Calculate the accuracy.\n",
    "3. Write a function that draws the plot (`barh`) taking coefficients of any trained models, names of the features and the number of `top-n` most important features to display.\n",
    "4. Draw a plot (`barh`) for the baseline model with top-10 most important features (absolute value) for the trained model.\n",
    "5. Remember that it is a multiclass classification and `coef_` returns a matrix, to calculate importance for a feature you need to sum all the individual feature importances for all the target values."
   ]
  },
  {
   "cell_type": "code",
   "execution_count": null,
   "metadata": {},
   "outputs": [],
   "source": [
    "lr = LogisticRegression(random_state=21, fit_intercept=False)\n",
    "lr.fit(X, y)\n",
    "y_pred = lr.predict(X)\n",
    "accuracy_score(y, y_pred)"
   ]
  },
  {
   "cell_type": "markdown",
   "metadata": {},
   "source": [
    "Построим график (barh) на основании рассчитанных коэффициентов регрессии для n наиболее значимых фичей"
   ]
  },
  {
   "cell_type": "code",
   "execution_count": null,
   "metadata": {},
   "outputs": [],
   "source": [
    "def plot_features(coefs, features, n=10):\n",
    "    fig, ax = plt.subplots(figsize=(15, 8)) # определяем параметры графика\n",
    "    coefs /= coefs.sum() # коэффициенты берем с удельным весом\n",
    "    indices = coefs.argsort()[::-1][:n] # индексами берем фичи (аргументы коэффициентов регрессии), отсортированные по возрастанию, поэтому срез с конца, последние n\n",
    "    ax.barh(np.arange(n), coefs[indices], color='green')\n",
    "    ax.set_yticks(np.arange(n))\n",
    "    ax.set_yticklabels(features[indices])\n",
    "    ax.invert_yaxis() # сделаем, чтобы более значимые фичи были сверху\n",
    "    plt.show()"
   ]
  },
  {
   "cell_type": "code",
   "execution_count": null,
   "metadata": {},
   "outputs": [],
   "source": [
    "plot_features(lr.coef_.mean(axis=0), X.columns)"
   ]
  },
  {
   "cell_type": "markdown",
   "metadata": {},
   "source": [
    "### b. SVC"
   ]
  },
  {
   "cell_type": "markdown",
   "metadata": {},
   "source": [
    "1. Train a `SVC` model, for the baseline model use parameters `kernel='linear'`, `probability=True`, `random_state=21`. \n",
    "2. Try different kernels, calculate the accuracies.\n",
    "3. Draw a plot (`barh`) for the baseline model with top-10 most important features (absolute value) for the trained model for the linear kernel *\n",
    "\n",
    "*By default SVC uses “one vs one” strategy of the classification, thus in `coef_` it returns a matrix. To calculate importance for a feature you need to use [OneVsRestClassifier](https://scikit-learn.org/stable/modules/generated/sklearn.multiclass.OneVsRestClassifier.html) over the SVC and sum all the individual feature importances for all the target values."
   ]
  },
  {
   "cell_type": "markdown",
   "metadata": {},
   "source": [
    "SVS - метод опорных векторов.\n",
    "\n",
    "http://datascientist.one/support-vector-machines/\n",
    "\n",
    "Обучим модель SVC, используйя параметры ядра = 'линейный', вероятность = истина, random_state = 21"
   ]
  },
  {
   "cell_type": "code",
   "execution_count": null,
   "metadata": {},
   "outputs": [],
   "source": [
    "svc = SVC(kernel='linear', probability=True, random_state=21)\n",
    "svc.fit(X, y)\n",
    "y_svc = svc.predict(X)"
   ]
  },
  {
   "cell_type": "code",
   "execution_count": null,
   "metadata": {},
   "outputs": [],
   "source": [
    "accuracy_score(y, y_svc)"
   ]
  },
  {
   "cell_type": "markdown",
   "metadata": {},
   "source": [
    "Нарисуйем график для базовой модели с 10 наиболее важными функциями (абсолютное значение веса) для обученной модели для линейного ядра"
   ]
  },
  {
   "cell_type": "code",
   "execution_count": null,
   "metadata": {},
   "outputs": [],
   "source": [
    "plot_features(svc.coef_.mean(axis=0), X.columns)"
   ]
  },
  {
   "cell_type": "markdown",
   "metadata": {},
   "source": [
    "Пробуем разные ядра, посчитаем точность."
   ]
  },
  {
   "cell_type": "code",
   "execution_count": null,
   "metadata": {},
   "outputs": [],
   "source": [
    "svc = SVC(probability=True, random_state=21)\n",
    "param_grid = {'kernel': ['linear', 'poly', 'rbf', 'sigmoid']}\n",
    "gs = GridSearchCV(svc, param_grid, scoring='accuracy')\n",
    "gs.fit(X, y)\n",
    "gs.best_params_"
   ]
  },
  {
   "cell_type": "markdown",
   "metadata": {},
   "source": [
    "Лучшим ядром оказалось poly"
   ]
  },
  {
   "cell_type": "code",
   "execution_count": null,
   "metadata": {},
   "outputs": [],
   "source": [
    "y_pred = gs.predict(X)\n",
    "accuracy_score(y, y_pred)"
   ]
  },
  {
   "cell_type": "markdown",
   "metadata": {},
   "source": [
    "### c. Decision tree"
   ]
  },
  {
   "cell_type": "markdown",
   "metadata": {},
   "source": [
    "1. Train a `DecisionTreeClassifier` using for the baseline model `max_depth=4`, `random_state=21`. \n",
    "2. Try different values of `max_depth`, calculate the accuracies.\n",
    "3. Draw a plot (`barh`) for the baseline model with top-10 most important features (absolute value) for the trained model using the written function."
   ]
  },
  {
   "cell_type": "markdown",
   "metadata": {},
   "source": [
    "Обучим DecisionTreeClassifier, используя для базовой модели max_depth=4, random_state=21."
   ]
  },
  {
   "cell_type": "code",
   "execution_count": null,
   "metadata": {},
   "outputs": [],
   "source": [
    "dtc = DecisionTreeClassifier(max_depth=4, random_state=21)\n",
    "dtc.fit(X, y)\n",
    "y_dts = dtc.predict(X)\n",
    "accuracy_score(y, y_dts)"
   ]
  },
  {
   "cell_type": "markdown",
   "metadata": {},
   "source": [
    "Попробуем разные значения max_depth, рассчитаем точность."
   ]
  },
  {
   "cell_type": "code",
   "execution_count": null,
   "metadata": {},
   "outputs": [],
   "source": [
    "dtc = DecisionTreeClassifier(max_depth=6, random_state=21)\n",
    "dtc.fit(X, y)\n",
    "y_dts = dtc.predict(X)\n",
    "accuracy_score(y, y_dts)"
   ]
  },
  {
   "cell_type": "code",
   "execution_count": null,
   "metadata": {},
   "outputs": [],
   "source": [
    "dtc = DecisionTreeClassifier(max_depth=8, random_state=21)\n",
    "dtc.fit(X, y)\n",
    "y_dts = dtc.predict(X)\n",
    "accuracy_score(y, y_dts)"
   ]
  },
  {
   "cell_type": "code",
   "execution_count": null,
   "metadata": {},
   "outputs": [],
   "source": [
    "dtc = DecisionTreeClassifier(max_depth=10, random_state=21)\n",
    "dtc.fit(X, y)\n",
    "y_dts = dtc.predict(X)\n",
    "accuracy_score(y, y_dts)"
   ]
  },
  {
   "cell_type": "code",
   "execution_count": null,
   "metadata": {},
   "outputs": [],
   "source": [
    "dtc = DecisionTreeClassifier(max_depth=12, random_state=21)\n",
    "dtc.fit(X, y)\n",
    "y_dts = dtc.predict(X)\n",
    "accuracy_score(y, y_dts)"
   ]
  },
  {
   "cell_type": "code",
   "execution_count": null,
   "metadata": {},
   "outputs": [],
   "source": [
    "dtc = DecisionTreeClassifier(max_depth=28, random_state=21)\n",
    "dtc.fit(X, y)\n",
    "y_dts = dtc.predict(X)\n",
    "accuracy_score(y, y_dts)"
   ]
  },
  {
   "cell_type": "markdown",
   "metadata": {},
   "source": [
    "При увеличении глубины точность увеличивается. При глубине 28 достигается 1. Система становится переобученной.\n",
    "\n",
    "Нарисуем график для базовой модели с 10 наиболее важными фичами (по абсолютному значению) для обученной модели, используя написанную функцию."
   ]
  },
  {
   "cell_type": "code",
   "execution_count": null,
   "metadata": {},
   "outputs": [],
   "source": [
    "dtc = DecisionTreeClassifier(random_state=21)\n",
    "param_grid = {'max_depth': [3, 5, 7, 10, 20, 28]}\n",
    "gs = GridSearchCV(dtc, param_grid, scoring='accuracy', n_jobs=-1)\n",
    "gs.fit(X, y)"
   ]
  },
  {
   "cell_type": "code",
   "execution_count": null,
   "metadata": {},
   "outputs": [],
   "source": [
    "gs.best_params_"
   ]
  },
  {
   "cell_type": "code",
   "execution_count": null,
   "metadata": {},
   "outputs": [],
   "source": [
    "y_pred = gs.predict(X)\n",
    "accuracy_score(y, y_pred)"
   ]
  },
  {
   "cell_type": "code",
   "execution_count": null,
   "metadata": {},
   "outputs": [],
   "source": [
    "plot_features(gs.best_estimator_.feature_importances_, X.columns)"
   ]
  },
  {
   "cell_type": "markdown",
   "metadata": {},
   "source": [
    "### d. Random forest"
   ]
  },
  {
   "cell_type": "markdown",
   "metadata": {},
   "source": [
    "In real life forest is a set of trees. The same thing is with machine learning. Random forest is a set of individual decision trees (check the documentation for more details).\n",
    "\n",
    "1. Train a `RandomForestClassifier` using for the baseline model parameters `n_estimators=100`, `max_depth = 25`, `random_state=21`. \n",
    "2. Try different values of `max_depth` and `n_estimators`, calculate the accuracies.\n",
    "3. Draw a plot (`barh`) for the baseline model with top-10 most important features (absolute value) for the trained model using the written function."
   ]
  },
  {
   "cell_type": "markdown",
   "metadata": {},
   "source": [
    "Обучим RandomForestClassifier, используя параметры базовой модели n_estimators=100, max_depth = 25, random_state=21."
   ]
  },
  {
   "cell_type": "code",
   "execution_count": null,
   "metadata": {},
   "outputs": [],
   "source": [
    "rfm = RandomForestClassifier(n_estimators=100,\n",
    "                             max_depth=25,\n",
    "                             random_state=21)\n",
    "rfm.fit(X, y) # обучение\n",
    "y_rfm = rfm.predict(X) # предсказание\n",
    "\n",
    "accuracy_score(y, y_rfm)"
   ]
  },
  {
   "cell_type": "markdown",
   "metadata": {},
   "source": [
    "Попробуем разные значения max_depth и n_estimators, рассчитаем точность."
   ]
  },
  {
   "cell_type": "code",
   "execution_count": null,
   "metadata": {},
   "outputs": [],
   "source": [
    "rfm = RandomForestClassifier(n_estimators=10,\n",
    "                             max_depth=25,\n",
    "                             random_state=21)\n",
    "rfm.fit(X, y) # обучение\n",
    "y_rfm = rfm.predict(X) # предсказание\n",
    "\n",
    "accuracy_score(y, y_rfm)"
   ]
  },
  {
   "cell_type": "code",
   "execution_count": null,
   "metadata": {},
   "outputs": [],
   "source": [
    "rfm = RandomForestClassifier(n_estimators=100,\n",
    "                             max_depth=20,\n",
    "                             random_state=21)\n",
    "rfm.fit(X, y) # обучение\n",
    "y_rfm = rfm.predict(X) # предсказание\n",
    "\n",
    "accuracy_score(y, y_rfm)"
   ]
  },
  {
   "cell_type": "markdown",
   "metadata": {},
   "source": [
    "Нарисуем график для базовой модели с 10 наиболее важными функциями (по абсолютному значению) для обученной модели, используя написанную функцию."
   ]
  },
  {
   "cell_type": "code",
   "execution_count": null,
   "metadata": {},
   "outputs": [],
   "source": [
    "rfm = RandomForestClassifier(random_state=21)\n",
    "param_grid = {'n_estimators': [100, 200, 300],\n",
    "              'max_depth': [3, 5, 7, 10, 20, 25, 30]}\n",
    "gs = GridSearchCV(rfm, param_grid, scoring='accuracy', n_jobs=-1)\n",
    "gs.fit(X, y)"
   ]
  },
  {
   "cell_type": "code",
   "execution_count": null,
   "metadata": {},
   "outputs": [],
   "source": [
    "gs.best_params_"
   ]
  },
  {
   "cell_type": "code",
   "execution_count": null,
   "metadata": {},
   "outputs": [],
   "source": [
    "plot_features(gs.best_estimator_.feature_importances_, X.columns)"
   ]
  }
 ],
 "metadata": {
  "kernelspec": {
   "display_name": "Python 3",
   "language": "python",
   "name": "python3"
  },
  "language_info": {
   "codemirror_mode": {
    "name": "ipython",
    "version": 3
   },
   "file_extension": ".py",
   "mimetype": "text/x-python",
   "name": "python",
   "nbconvert_exporter": "python",
   "pygments_lexer": "ipython3",
   "version": "3.7.7"
  }
 },
 "nbformat": 4,
 "nbformat_minor": 4
}
