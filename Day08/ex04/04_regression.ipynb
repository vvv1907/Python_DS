{
 "cells": [
  {
   "cell_type": "markdown",
   "metadata": {},
   "source": [
    "# Day 08. Exercise 04\n",
    "# Regression"
   ]
  },
  {
   "cell_type": "markdown",
   "metadata": {},
   "source": [
    "## 0. Imports"
   ]
  },
  {
   "cell_type": "code",
   "execution_count": null,
   "metadata": {},
   "outputs": [],
   "source": [
    "import pandas as pd\n",
    "from sklearn.preprocessing import StandardScaler\n",
    "from sklearn.tree import DecisionTreeRegressor\n",
    "from sklearn.ensemble import RandomForestRegressor\n",
    "from sklearn.model_selection import train_test_split, KFold, cross_val_score, cross_val_predict\n",
    "from sklearn import linear_model, metrics\n",
    "from matplotlib import pyplot as plt\n",
    "from collections import Counter"
   ]
  },
  {
   "cell_type": "markdown",
   "metadata": {},
   "source": [
    "## 1. Preprocessing"
   ]
  },
  {
   "cell_type": "markdown",
   "metadata": {},
   "source": [
    "1. Read the file [`checker_regression.csv`](https://drive.google.com/file/d/1L8auBzJEghWFewznhhFpcrqxW4GqcfRY/view?usp=sharing).\n",
    "2. Fill the missing values in it with `0`.\n",
    "3. Make a split of your dataset on train and test with parameters `test_size=0.2`."
   ]
  },
  {
   "cell_type": "code",
   "execution_count": null,
   "metadata": {},
   "outputs": [],
   "source": [
    "with open('../data/checker_regression.csv', 'r') as fin:\n",
    "    df = pd.read_csv(fin, sep=',', )\n",
    "df.info()"
   ]
  },
  {
   "cell_type": "markdown",
   "metadata": {},
   "source": [
    "Заполним недостающие значения нулями."
   ]
  },
  {
   "cell_type": "code",
   "execution_count": null,
   "metadata": {},
   "outputs": [],
   "source": [
    "df.fillna(0, inplace=True)\n",
    "df.info()\n",
    "print()\n",
    "df.drop_duplicates()\n",
    "df.info()"
   ]
  },
  {
   "cell_type": "markdown",
   "metadata": {},
   "source": [
    "Разделим данные на train и test с параметрами test_size=0.2"
   ]
  },
  {
   "cell_type": "code",
   "execution_count": null,
   "metadata": {},
   "outputs": [],
   "source": [
    "uid = {}\n",
    "c = 0\n",
    "for i in Counter(df.uid):\n",
    "  uid[i] = c;\n",
    "  c += 1\n",
    "df[\"uid_num\"] = [uid[df.uid[i]] for i in range(0, 77)]\n",
    "\n",
    "scaller = StandardScaler()\n",
    "X = df.drop(['uid', 'AVG(diff)'], axis=1).values\n",
    "Y = df['AVG(diff)']\n",
    "\n",
    "scaller.fit(X, Y)\n",
    "X_scaled = scaller.transform(X)"
   ]
  },
  {
   "cell_type": "code",
   "execution_count": null,
   "metadata": {},
   "outputs": [],
   "source": [
    "train_data, test_data, train_labels, test_labels = train_test_split(X_scaled, Y, test_size = 0.2, random_state=21)"
   ]
  },
  {
   "cell_type": "markdown",
   "metadata": {},
   "source": [
    "## 2. Crossvalidation"
   ]
  },
  {
   "cell_type": "markdown",
   "metadata": {},
   "source": [
    "1. Write a function `crossval` that takes as arguments: `n_splits` for `KFold()`, `X`, `y`, model instantiated class with the parameters of the model (keep in mind: `random_state=21`) and returns for a given model class a result like this:\n",
    "\n",
    "```\n",
    "train -  2696.4496895424836   |   test -  1589.9979527104958\n",
    "train -  2660.957874001452   |   test -  2075.102636027137\n",
    "train -  2847.315529246795   |   test -  320.911928168403\n",
    "train -  2500.7691099659237   |   test -  4132.461382030178\n",
    "train -  2643.927917295123   |   test -  2237.8140952197878\n",
    "train -  2396.295678819444   |   test -  4509.650064742476\n",
    "train -  2003.402267924976   |   test -  8403.491474908551\n",
    "train -  2531.876094212613   |   test -  3135.944102735099\n",
    "train -  2683.1795186023123   |   test -  1796.01426292594\n",
    "train -  2537.1192483996338   |   test -  3439.29824116941\n",
    "Average RMSE on crossval is 3164.0686140637476\n",
    "```\n",
    "\n",
    "2. Run the function for `LinearRegression`, `DecisionTreeRegressor`, `RandomForestRegressor`. You may choose the parameters by yourself, but find the good enough for you."
   ]
  },
  {
   "cell_type": "code",
   "execution_count": null,
   "metadata": {},
   "outputs": [],
   "source": [
    "def crossval(n_splits, X, y, model):\n",
    "  train_data, test_data, train_labels, test_labels = train_test_split(X, y, test_size = 0.2, random_state=21)\n",
    "\n",
    "  ft_m = model.fit(train_data, train_labels)\n",
    "  scores = cross_val_score(model, train_data, train_labels, cv=n_splits)\n",
    "  scores_test = cross_val_score(model, test_data, test_labels, cv=n_splits)\n",
    "  predict = cross_val_predict(ft_m, test_data, test_labels, cv=n_splits)\n",
    "  accuracy = metrics.mean_squared_error(test_labels, predict)\n",
    "\n",
    "  for i in range(0, len(scores)):\n",
    "    print(f'train - {scores[i]} | test - {scores_test[i]}')\n",
    "  print(f'Average RMSE on crossval is {accuracy}')"
   ]
  },
  {
   "cell_type": "code",
   "execution_count": null,
   "metadata": {},
   "outputs": [],
   "source": [
    "regr = linear_model.LinearRegression()\n",
    "crossval(6, X_scaled, Y, regr)"
   ]
  },
  {
   "cell_type": "markdown",
   "metadata": {},
   "source": [
    "Запустим функцию для LinearRegression, DecisionTreeRegressor, RandomForestRegressor."
   ]
  },
  {
   "cell_type": "code",
   "execution_count": null,
   "metadata": {},
   "outputs": [],
   "source": [
    "treeRegr = DecisionTreeRegressor(random_state=21)\n",
    "crossval(6, X_scaled, Y, treeRegr)"
   ]
  },
  {
   "cell_type": "code",
   "execution_count": null,
   "metadata": {},
   "outputs": [],
   "source": [
    "rFrstRegr = RandomForestRegressor(random_state = 21)\n",
    "crossval(6, X_scaled, Y, rFrstRegr)"
   ]
  },
  {
   "cell_type": "markdown",
   "metadata": {},
   "source": [
    "## 3. Predictions and evaluation"
   ]
  },
  {
   "cell_type": "markdown",
   "metadata": {},
   "source": [
    "1. Make predictions for the test dataset using each of the three models with the finalized parameters.\n",
    "2. Draw a plot for each of the models where the `x-axis` is the actual average difference and the `y-axis` is the prediction made by a model.\n",
    "3. How would plot look like in the ideal case? Put the answer to the markdown cell in the end of the section."
   ]
  },
  {
   "cell_type": "markdown",
   "metadata": {},
   "source": [
    "Сделаем прогнозы для тестового набора данных, используя каждую из трех моделей с окончательными параметрами."
   ]
  },
  {
   "cell_type": "code",
   "execution_count": null,
   "metadata": {},
   "outputs": [],
   "source": [
    "ft_m = regr.fit(train_data, train_labels)\n",
    "predict = cross_val_predict(ft_m, test_data, test_labels, cv=6)\n",
    "picasso = pd.DataFrame()\n",
    "picasso[\"test_labels\"] = test_labels\n",
    "picasso[\"predict\"] = predict\n",
    "\n",
    "\n",
    "plt.scatter(test_labels, predict, cmap='Accent')\n",
    "plt.xlabel('x')\n",
    "plt.ylabel('y')\n",
    "plt.show()"
   ]
  },
  {
   "cell_type": "code",
   "execution_count": null,
   "metadata": {},
   "outputs": [],
   "source": [
    "ft_m = treeRegr.fit(train_data, train_labels)\n",
    "predict = cross_val_predict(ft_m, test_data, test_labels, cv=6)\n",
    "picasso_tree = pd.DataFrame()\n",
    "picasso_tree[\"test_labels\"] = test_labels\n",
    "picasso_tree[\"predict\"] = predict\n",
    "\n",
    "\n",
    "plt.scatter(test_labels, predict, cmap='Accent')\n",
    "plt.xlabel('x')\n",
    "plt.ylabel('y')\n",
    "plt.show()"
   ]
  },
  {
   "cell_type": "code",
   "execution_count": null,
   "metadata": {},
   "outputs": [],
   "source": [
    "ft_m = rFrstRegr.fit(train_data, train_labels)\n",
    "predict = cross_val_predict(ft_m, test_data, test_labels, cv=6)\n",
    "picasso_rndFrst = pd.DataFrame()\n",
    "picasso_rndFrst[\"test_labels\"] = test_labels\n",
    "picasso_rndFrst[\"predict\"] = predict\n",
    "\n",
    "\n",
    "plt.scatter(test_labels, predict, cmap='Accent')\n",
    "plt.xlabel('x')\n",
    "plt.ylabel('y')\n",
    "plt.show()"
   ]
  },
  {
   "cell_type": "markdown",
   "metadata": {},
   "source": [
    "В идеальном случае - это прямая кх+в под углом 45 градусов первую четверть"
   ]
  },
  {
   "cell_type": "markdown",
   "metadata": {},
   "source": []
  }
 ],
 "metadata": {
  "kernelspec": {
   "display_name": "Python 3",
   "language": "python",
   "name": "python3"
  },
  "language_info": {
   "codemirror_mode": {
    "name": "ipython",
    "version": 3
   },
   "file_extension": ".py",
   "mimetype": "text/x-python",
   "name": "python",
   "nbconvert_exporter": "python",
   "pygments_lexer": "ipython3",
   "version": "3.7.7"
  }
 },
 "nbformat": 4,
 "nbformat_minor": 4
}
