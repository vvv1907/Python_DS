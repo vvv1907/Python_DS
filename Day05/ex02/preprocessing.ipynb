{
 "cells": [
  {
   "cell_type": "markdown",
   "metadata": {},
   "source": [
    "## Exercise 02 : Preprocessing"
   ]
  },
  {
   "cell_type": "code",
   "execution_count": 80,
   "metadata": {},
   "outputs": [
    {
     "data": {
      "application/javascript": "IPython.notebook.set_autosave_interval(60000)"
     },
     "metadata": {},
     "output_type": "display_data"
    },
    {
     "name": "stdout",
     "output_type": "stream",
     "text": [
      "Autosaving every 60 seconds\n"
     ]
    }
   ],
   "source": [
    "%autosave 60\n",
    "import pandas as pd\n",
    "pd.options.mode.chained_assignment = None"
   ]
  },
  {
   "cell_type": "markdown",
   "metadata": {},
   "source": [
    "## Read the CSV file and make ID the index column"
   ]
  },
  {
   "cell_type": "code",
   "execution_count": 81,
   "metadata": {},
   "outputs": [
    {
     "data": {
      "text/html": [
       "<div>\n",
       "<style scoped>\n",
       "    .dataframe tbody tr th:only-of-type {\n",
       "        vertical-align: middle;\n",
       "    }\n",
       "\n",
       "    .dataframe tbody tr th {\n",
       "        vertical-align: top;\n",
       "    }\n",
       "\n",
       "    .dataframe thead th {\n",
       "        text-align: right;\n",
       "    }\n",
       "</style>\n",
       "<table border=\"1\" class=\"dataframe\">\n",
       "  <thead>\n",
       "    <tr style=\"text-align: right;\">\n",
       "      <th></th>\n",
       "      <th>CarNumber</th>\n",
       "      <th>Make_n_model</th>\n",
       "      <th>Refund</th>\n",
       "      <th>Fines</th>\n",
       "      <th>History</th>\n",
       "    </tr>\n",
       "    <tr>\n",
       "      <th>ID</th>\n",
       "      <th></th>\n",
       "      <th></th>\n",
       "      <th></th>\n",
       "      <th></th>\n",
       "      <th></th>\n",
       "    </tr>\n",
       "  </thead>\n",
       "  <tbody>\n",
       "    <tr>\n",
       "      <th>0</th>\n",
       "      <td>Y163O8161RUS</td>\n",
       "      <td>Ford Focus</td>\n",
       "      <td>2.0</td>\n",
       "      <td>3200.0</td>\n",
       "      <td>NaN</td>\n",
       "    </tr>\n",
       "    <tr>\n",
       "      <th>1</th>\n",
       "      <td>E432XX77RUS</td>\n",
       "      <td>Toyota Camry</td>\n",
       "      <td>1.0</td>\n",
       "      <td>6500.0</td>\n",
       "      <td>NaN</td>\n",
       "    </tr>\n",
       "    <tr>\n",
       "      <th>2</th>\n",
       "      <td>7184TT36RUS</td>\n",
       "      <td>Ford Focus</td>\n",
       "      <td>1.0</td>\n",
       "      <td>2100.0</td>\n",
       "      <td>NaN</td>\n",
       "    </tr>\n",
       "    <tr>\n",
       "      <th>3</th>\n",
       "      <td>X582HE161RUS</td>\n",
       "      <td>Ford Focus</td>\n",
       "      <td>2.0</td>\n",
       "      <td>2000.0</td>\n",
       "      <td>NaN</td>\n",
       "    </tr>\n",
       "    <tr>\n",
       "      <th>4</th>\n",
       "      <td>E34877152RUS</td>\n",
       "      <td>Ford Focus</td>\n",
       "      <td>2.0</td>\n",
       "      <td>6100.0</td>\n",
       "      <td>NaN</td>\n",
       "    </tr>\n",
       "    <tr>\n",
       "      <th>...</th>\n",
       "      <td>...</td>\n",
       "      <td>...</td>\n",
       "      <td>...</td>\n",
       "      <td>...</td>\n",
       "      <td>...</td>\n",
       "    </tr>\n",
       "    <tr>\n",
       "      <th>926</th>\n",
       "      <td>Y163O8161RUS</td>\n",
       "      <td>Ford Focus</td>\n",
       "      <td>2.0</td>\n",
       "      <td>1600.0</td>\n",
       "      <td>NaN</td>\n",
       "    </tr>\n",
       "    <tr>\n",
       "      <th>927</th>\n",
       "      <td>M0309X197RUS</td>\n",
       "      <td>Ford Focus</td>\n",
       "      <td>1.0</td>\n",
       "      <td>22300.0</td>\n",
       "      <td>NaN</td>\n",
       "    </tr>\n",
       "    <tr>\n",
       "      <th>928</th>\n",
       "      <td>O673E8197RUS</td>\n",
       "      <td>Ford Focus</td>\n",
       "      <td>2.0</td>\n",
       "      <td>600.0</td>\n",
       "      <td>NaN</td>\n",
       "    </tr>\n",
       "    <tr>\n",
       "      <th>929</th>\n",
       "      <td>8610T8154RUS</td>\n",
       "      <td>Ford Focus</td>\n",
       "      <td>1.0</td>\n",
       "      <td>2000.0</td>\n",
       "      <td>NaN</td>\n",
       "    </tr>\n",
       "    <tr>\n",
       "      <th>930</th>\n",
       "      <td>H419XE197RUS</td>\n",
       "      <td>Toyota Corolla</td>\n",
       "      <td>2.0</td>\n",
       "      <td>NaN</td>\n",
       "      <td>2.0</td>\n",
       "    </tr>\n",
       "  </tbody>\n",
       "</table>\n",
       "<p>931 rows × 5 columns</p>\n",
       "</div>"
      ],
      "text/plain": [
       "        CarNumber    Make_n_model  Refund    Fines  History\n",
       "ID                                                         \n",
       "0    Y163O8161RUS      Ford Focus     2.0   3200.0      NaN\n",
       "1     E432XX77RUS    Toyota Camry     1.0   6500.0      NaN\n",
       "2     7184TT36RUS      Ford Focus     1.0   2100.0      NaN\n",
       "3    X582HE161RUS      Ford Focus     2.0   2000.0      NaN\n",
       "4    E34877152RUS      Ford Focus     2.0   6100.0      NaN\n",
       "..            ...             ...     ...      ...      ...\n",
       "926  Y163O8161RUS      Ford Focus     2.0   1600.0      NaN\n",
       "927  M0309X197RUS      Ford Focus     1.0  22300.0      NaN\n",
       "928  O673E8197RUS      Ford Focus     2.0    600.0      NaN\n",
       "929  8610T8154RUS      Ford Focus     1.0   2000.0      NaN\n",
       "930  H419XE197RUS  Toyota Corolla     2.0      NaN      2.0\n",
       "\n",
       "[931 rows x 5 columns]"
      ]
     },
     "execution_count": 81,
     "metadata": {},
     "output_type": "execute_result"
    }
   ],
   "source": [
    "df = pd.read_csv('../data/auto.csv', index_col='ID')\n",
    "df"
   ]
  },
  {
   "cell_type": "markdown",
   "metadata": {},
   "source": [
    "## Count the number of observations"
   ]
  },
  {
   "cell_type": "code",
   "execution_count": 82,
   "metadata": {},
   "outputs": [
    {
     "data": {
      "text/plain": [
       "CarNumber       931\n",
       "Make_n_model    931\n",
       "Refund          914\n",
       "Fines           869\n",
       "History          82\n",
       "dtype: int64"
      ]
     },
     "execution_count": 82,
     "metadata": {},
     "output_type": "execute_result"
    }
   ],
   "source": [
    "df.count()"
   ]
  },
  {
   "cell_type": "markdown",
   "metadata": {},
   "source": [
    "## Drop the duplicates, taking into account only the following columns: CarNumber, Make_n_model, Fines"
   ]
  },
  {
   "cell_type": "code",
   "execution_count": 83,
   "metadata": {},
   "outputs": [
    {
     "data": {
      "text/plain": [
       "CarNumber       725\n",
       "Make_n_model    725\n",
       "Refund          713\n",
       "Fines           665\n",
       "History          65\n",
       "dtype: int64"
      ]
     },
     "execution_count": 83,
     "metadata": {},
     "output_type": "execute_result"
    }
   ],
   "source": [
    "df = df.drop_duplicates(subset=['CarNumber', 'Make_n_model', 'Fines'], keep='last')\n",
    "df.count()"
   ]
  },
  {
   "cell_type": "markdown",
   "metadata": {},
   "source": [
    "## Check how many values are missing from each column"
   ]
  },
  {
   "cell_type": "code",
   "execution_count": 84,
   "metadata": {},
   "outputs": [
    {
     "data": {
      "text/plain": [
       "CarNumber         0\n",
       "Make_n_model      0\n",
       "Refund           12\n",
       "Fines            60\n",
       "History         660\n",
       "dtype: int64"
      ]
     },
     "execution_count": 84,
     "metadata": {},
     "output_type": "execute_result"
    }
   ],
   "source": [
    "df.isna().sum()"
   ]
  },
  {
   "cell_type": "markdown",
   "metadata": {},
   "source": [
    "## Drop all the columns with over 500 missing values using the argument thresh, check how many missing values are in each column"
   ]
  },
  {
   "cell_type": "code",
   "execution_count": 85,
   "metadata": {},
   "outputs": [
    {
     "data": {
      "text/plain": [
       "CarNumber        0\n",
       "Make_n_model     0\n",
       "Refund          12\n",
       "Fines           60\n",
       "dtype: int64"
      ]
     },
     "execution_count": 85,
     "metadata": {},
     "output_type": "execute_result"
    }
   ],
   "source": [
    "df = df.dropna(axis=1, thresh=500)\n",
    "df.isna().sum()"
   ]
  },
  {
   "cell_type": "markdown",
   "metadata": {},
   "source": [
    "## Replace all the missing values in the Refund column with the previous value in that column for that cell"
   ]
  },
  {
   "cell_type": "code",
   "execution_count": 86,
   "metadata": {},
   "outputs": [
    {
     "data": {
      "text/plain": [
       "CarNumber        0\n",
       "Make_n_model     0\n",
       "Refund           0\n",
       "Fines           60\n",
       "dtype: int64"
      ]
     },
     "execution_count": 86,
     "metadata": {},
     "output_type": "execute_result"
    }
   ],
   "source": [
    "df['Refund'].fillna(method='ffill', inplace=True)\n",
    "df.isna().sum()"
   ]
  },
  {
   "cell_type": "markdown",
   "metadata": {},
   "source": [
    "## Replace all the missing values in the Fines column with the mean value of this column"
   ]
  },
  {
   "cell_type": "code",
   "execution_count": 87,
   "metadata": {},
   "outputs": [
    {
     "data": {
      "text/plain": [
       "CarNumber       0\n",
       "Make_n_model    0\n",
       "Refund          0\n",
       "Fines           0\n",
       "dtype: int64"
      ]
     },
     "execution_count": 87,
     "metadata": {},
     "output_type": "execute_result"
    }
   ],
   "source": [
    "df['Fines'].fillna(df['Fines'].mean(), inplace=True)\n",
    "df.isna().sum()"
   ]
  },
  {
   "cell_type": "markdown",
   "metadata": {},
   "source": [
    "## Split and parse the make and model and drop the column Make_n_model"
   ]
  },
  {
   "cell_type": "code",
   "execution_count": 88,
   "metadata": {},
   "outputs": [
    {
     "data": {
      "text/html": [
       "<div>\n",
       "<style scoped>\n",
       "    .dataframe tbody tr th:only-of-type {\n",
       "        vertical-align: middle;\n",
       "    }\n",
       "\n",
       "    .dataframe tbody tr th {\n",
       "        vertical-align: top;\n",
       "    }\n",
       "\n",
       "    .dataframe thead th {\n",
       "        text-align: right;\n",
       "    }\n",
       "</style>\n",
       "<table border=\"1\" class=\"dataframe\">\n",
       "  <thead>\n",
       "    <tr style=\"text-align: right;\">\n",
       "      <th></th>\n",
       "      <th>CarNumber</th>\n",
       "      <th>Refund</th>\n",
       "      <th>Fines</th>\n",
       "      <th>Make</th>\n",
       "      <th>Model</th>\n",
       "    </tr>\n",
       "    <tr>\n",
       "      <th>ID</th>\n",
       "      <th></th>\n",
       "      <th></th>\n",
       "      <th></th>\n",
       "      <th></th>\n",
       "      <th></th>\n",
       "    </tr>\n",
       "  </thead>\n",
       "  <tbody>\n",
       "    <tr>\n",
       "      <th>0</th>\n",
       "      <td>Y163O8161RUS</td>\n",
       "      <td>2.0</td>\n",
       "      <td>3200.000000</td>\n",
       "      <td>Ford</td>\n",
       "      <td>Focus</td>\n",
       "    </tr>\n",
       "    <tr>\n",
       "      <th>1</th>\n",
       "      <td>E432XX77RUS</td>\n",
       "      <td>1.0</td>\n",
       "      <td>6500.000000</td>\n",
       "      <td>Toyota</td>\n",
       "      <td>Camry</td>\n",
       "    </tr>\n",
       "    <tr>\n",
       "      <th>2</th>\n",
       "      <td>7184TT36RUS</td>\n",
       "      <td>1.0</td>\n",
       "      <td>2100.000000</td>\n",
       "      <td>Ford</td>\n",
       "      <td>Focus</td>\n",
       "    </tr>\n",
       "    <tr>\n",
       "      <th>3</th>\n",
       "      <td>X582HE161RUS</td>\n",
       "      <td>2.0</td>\n",
       "      <td>2000.000000</td>\n",
       "      <td>Ford</td>\n",
       "      <td>Focus</td>\n",
       "    </tr>\n",
       "    <tr>\n",
       "      <th>5</th>\n",
       "      <td>92918M178RUS</td>\n",
       "      <td>1.0</td>\n",
       "      <td>5700.000000</td>\n",
       "      <td>Ford</td>\n",
       "      <td>Focus</td>\n",
       "    </tr>\n",
       "    <tr>\n",
       "      <th>...</th>\n",
       "      <td>...</td>\n",
       "      <td>...</td>\n",
       "      <td>...</td>\n",
       "      <td>...</td>\n",
       "      <td>...</td>\n",
       "    </tr>\n",
       "    <tr>\n",
       "      <th>926</th>\n",
       "      <td>Y163O8161RUS</td>\n",
       "      <td>2.0</td>\n",
       "      <td>1600.000000</td>\n",
       "      <td>Ford</td>\n",
       "      <td>Focus</td>\n",
       "    </tr>\n",
       "    <tr>\n",
       "      <th>927</th>\n",
       "      <td>M0309X197RUS</td>\n",
       "      <td>1.0</td>\n",
       "      <td>22300.000000</td>\n",
       "      <td>Ford</td>\n",
       "      <td>Focus</td>\n",
       "    </tr>\n",
       "    <tr>\n",
       "      <th>928</th>\n",
       "      <td>O673E8197RUS</td>\n",
       "      <td>2.0</td>\n",
       "      <td>600.000000</td>\n",
       "      <td>Ford</td>\n",
       "      <td>Focus</td>\n",
       "    </tr>\n",
       "    <tr>\n",
       "      <th>929</th>\n",
       "      <td>8610T8154RUS</td>\n",
       "      <td>1.0</td>\n",
       "      <td>2000.000000</td>\n",
       "      <td>Ford</td>\n",
       "      <td>Focus</td>\n",
       "    </tr>\n",
       "    <tr>\n",
       "      <th>930</th>\n",
       "      <td>H419XE197RUS</td>\n",
       "      <td>2.0</td>\n",
       "      <td>8594.586466</td>\n",
       "      <td>Toyota</td>\n",
       "      <td>Corolla</td>\n",
       "    </tr>\n",
       "  </tbody>\n",
       "</table>\n",
       "<p>725 rows × 5 columns</p>\n",
       "</div>"
      ],
      "text/plain": [
       "        CarNumber  Refund         Fines    Make    Model\n",
       "ID                                                      \n",
       "0    Y163O8161RUS     2.0   3200.000000    Ford    Focus\n",
       "1     E432XX77RUS     1.0   6500.000000  Toyota    Camry\n",
       "2     7184TT36RUS     1.0   2100.000000    Ford    Focus\n",
       "3    X582HE161RUS     2.0   2000.000000    Ford    Focus\n",
       "5    92918M178RUS     1.0   5700.000000    Ford    Focus\n",
       "..            ...     ...           ...     ...      ...\n",
       "926  Y163O8161RUS     2.0   1600.000000    Ford    Focus\n",
       "927  M0309X197RUS     1.0  22300.000000    Ford    Focus\n",
       "928  O673E8197RUS     2.0    600.000000    Ford    Focus\n",
       "929  8610T8154RUS     1.0   2000.000000    Ford    Focus\n",
       "930  H419XE197RUS     2.0   8594.586466  Toyota  Corolla\n",
       "\n",
       "[725 rows x 5 columns]"
      ]
     },
     "execution_count": 88,
     "metadata": {},
     "output_type": "execute_result"
    }
   ],
   "source": [
    "df['Make'] = df['Make_n_model'].apply(lambda x: x.split()[0])\n",
    "df['Model'] = df['Make_n_model'].apply(lambda x: x.split()[1] if len(x.split()) == 2 else None)\n",
    "df.drop('Make_n_model', inplace=True, axis=1)\n",
    "df"
   ]
  },
  {
   "cell_type": "markdown",
   "metadata": {},
   "source": [
    "## Save the dataframe in the JSON file auto.json"
   ]
  },
  {
   "cell_type": "code",
   "execution_count": 89,
   "metadata": {},
   "outputs": [],
   "source": [
    "df.to_json('../data/auto.json', orient='records', double_precision=1)"
   ]
  },
  {
   "cell_type": "markdown",
   "metadata": {},
   "source": [
    "## And check..."
   ]
  },
  {
   "cell_type": "code",
   "execution_count": 90,
   "metadata": {},
   "outputs": [
    {
     "data": {
      "text/html": [
       "<div>\n",
       "<style scoped>\n",
       "    .dataframe tbody tr th:only-of-type {\n",
       "        vertical-align: middle;\n",
       "    }\n",
       "\n",
       "    .dataframe tbody tr th {\n",
       "        vertical-align: top;\n",
       "    }\n",
       "\n",
       "    .dataframe thead th {\n",
       "        text-align: right;\n",
       "    }\n",
       "</style>\n",
       "<table border=\"1\" class=\"dataframe\">\n",
       "  <thead>\n",
       "    <tr style=\"text-align: right;\">\n",
       "      <th></th>\n",
       "      <th>CarNumber</th>\n",
       "      <th>Refund</th>\n",
       "      <th>Fines</th>\n",
       "      <th>Make</th>\n",
       "      <th>Model</th>\n",
       "    </tr>\n",
       "  </thead>\n",
       "  <tbody>\n",
       "    <tr>\n",
       "      <th>0</th>\n",
       "      <td>Y163O8161RUS</td>\n",
       "      <td>2</td>\n",
       "      <td>3200.0</td>\n",
       "      <td>Ford</td>\n",
       "      <td>Focus</td>\n",
       "    </tr>\n",
       "    <tr>\n",
       "      <th>1</th>\n",
       "      <td>E432XX77RUS</td>\n",
       "      <td>1</td>\n",
       "      <td>6500.0</td>\n",
       "      <td>Toyota</td>\n",
       "      <td>Camry</td>\n",
       "    </tr>\n",
       "    <tr>\n",
       "      <th>2</th>\n",
       "      <td>7184TT36RUS</td>\n",
       "      <td>1</td>\n",
       "      <td>2100.0</td>\n",
       "      <td>Ford</td>\n",
       "      <td>Focus</td>\n",
       "    </tr>\n",
       "    <tr>\n",
       "      <th>3</th>\n",
       "      <td>X582HE161RUS</td>\n",
       "      <td>2</td>\n",
       "      <td>2000.0</td>\n",
       "      <td>Ford</td>\n",
       "      <td>Focus</td>\n",
       "    </tr>\n",
       "    <tr>\n",
       "      <th>4</th>\n",
       "      <td>92918M178RUS</td>\n",
       "      <td>1</td>\n",
       "      <td>5700.0</td>\n",
       "      <td>Ford</td>\n",
       "      <td>Focus</td>\n",
       "    </tr>\n",
       "    <tr>\n",
       "      <th>...</th>\n",
       "      <td>...</td>\n",
       "      <td>...</td>\n",
       "      <td>...</td>\n",
       "      <td>...</td>\n",
       "      <td>...</td>\n",
       "    </tr>\n",
       "    <tr>\n",
       "      <th>720</th>\n",
       "      <td>Y163O8161RUS</td>\n",
       "      <td>2</td>\n",
       "      <td>1600.0</td>\n",
       "      <td>Ford</td>\n",
       "      <td>Focus</td>\n",
       "    </tr>\n",
       "    <tr>\n",
       "      <th>721</th>\n",
       "      <td>M0309X197RUS</td>\n",
       "      <td>1</td>\n",
       "      <td>22300.0</td>\n",
       "      <td>Ford</td>\n",
       "      <td>Focus</td>\n",
       "    </tr>\n",
       "    <tr>\n",
       "      <th>722</th>\n",
       "      <td>O673E8197RUS</td>\n",
       "      <td>2</td>\n",
       "      <td>600.0</td>\n",
       "      <td>Ford</td>\n",
       "      <td>Focus</td>\n",
       "    </tr>\n",
       "    <tr>\n",
       "      <th>723</th>\n",
       "      <td>8610T8154RUS</td>\n",
       "      <td>1</td>\n",
       "      <td>2000.0</td>\n",
       "      <td>Ford</td>\n",
       "      <td>Focus</td>\n",
       "    </tr>\n",
       "    <tr>\n",
       "      <th>724</th>\n",
       "      <td>H419XE197RUS</td>\n",
       "      <td>2</td>\n",
       "      <td>8594.6</td>\n",
       "      <td>Toyota</td>\n",
       "      <td>Corolla</td>\n",
       "    </tr>\n",
       "  </tbody>\n",
       "</table>\n",
       "<p>725 rows × 5 columns</p>\n",
       "</div>"
      ],
      "text/plain": [
       "        CarNumber  Refund    Fines    Make    Model\n",
       "0    Y163O8161RUS       2   3200.0    Ford    Focus\n",
       "1     E432XX77RUS       1   6500.0  Toyota    Camry\n",
       "2     7184TT36RUS       1   2100.0    Ford    Focus\n",
       "3    X582HE161RUS       2   2000.0    Ford    Focus\n",
       "4    92918M178RUS       1   5700.0    Ford    Focus\n",
       "..            ...     ...      ...     ...      ...\n",
       "720  Y163O8161RUS       2   1600.0    Ford    Focus\n",
       "721  M0309X197RUS       1  22300.0    Ford    Focus\n",
       "722  O673E8197RUS       2    600.0    Ford    Focus\n",
       "723  8610T8154RUS       1   2000.0    Ford    Focus\n",
       "724  H419XE197RUS       2   8594.6  Toyota  Corolla\n",
       "\n",
       "[725 rows x 5 columns]"
      ]
     },
     "execution_count": 90,
     "metadata": {},
     "output_type": "execute_result"
    }
   ],
   "source": [
    "df_check = pd.read_json('../data/auto.json', orient='records')\n",
    "df_check"
   ]
  },
  {
   "cell_type": "code",
   "execution_count": 91,
   "metadata": {},
   "outputs": [
    {
     "data": {
      "text/plain": [
       "CarNumber    725\n",
       "Refund       725\n",
       "Fines        725\n",
       "Make         725\n",
       "Model        716\n",
       "dtype: int64"
      ]
     },
     "execution_count": 91,
     "metadata": {},
     "output_type": "execute_result"
    }
   ],
   "source": [
    "df_check.count()"
   ]
  },
  {
   "cell_type": "code",
   "execution_count": 92,
   "metadata": {},
   "outputs": [
    {
     "data": {
      "text/plain": [
       "8594.587586206897"
      ]
     },
     "execution_count": 92,
     "metadata": {},
     "output_type": "execute_result"
    }
   ],
   "source": [
    "df_check['Fines'].mean()"
   ]
  },
  {
   "cell_type": "code",
   "execution_count": 93,
   "metadata": {},
   "outputs": [
    {
     "data": {
      "text/plain": [
       "1.5172413793103448"
      ]
     },
     "execution_count": 93,
     "metadata": {},
     "output_type": "execute_result"
    }
   ],
   "source": [
    "df_check['Refund'].mean()"
   ]
  }
 ],
 "metadata": {
  "interpreter": {
   "hash": "31f2aee4e71d21fbe5cf8b01ff0e069b9275f58929596ceb00d14d90e3e16cd6"
  },
  "kernelspec": {
   "display_name": "Python 3.8.9 64-bit",
   "language": "python",
   "name": "python3"
  },
  "language_info": {
   "codemirror_mode": {
    "name": "ipython",
    "version": 3
   },
   "file_extension": ".py",
   "mimetype": "text/x-python",
   "name": "python",
   "nbconvert_exporter": "python",
   "pygments_lexer": "ipython3",
   "version": "3.8.9"
  },
  "orig_nbformat": 4
 },
 "nbformat": 4,
 "nbformat_minor": 2
}
