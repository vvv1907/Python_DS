{
 "cells": [
  {
   "cell_type": "markdown",
   "id": "f04b0153",
   "metadata": {},
   "source": [
    "# MovieLens dataset report\n",
    "## Prepare"
   ]
  },
  {
   "cell_type": "code",
   "execution_count": null,
   "id": "9b0f21da",
   "metadata": {},
   "outputs": [
    {
     "ename": "",
     "evalue": "",
     "output_type": "error",
     "traceback": [
      "\u001b[1;31mRunning cells with 'Python 3.9.10 64-bit' requires ipykernel package.\n",
      "Run the following command to install 'ipykernel' into the Python environment. \n",
      "Command: '/usr/local/bin/python3 -m pip install ipykernel -U --user --force-reinstall'"
     ]
    }
   ],
   "source": [
    "from movielens_analysis import Movies, Links, Ratings, Tags, Statistics"
   ]
  },
  {
   "cell_type": "code",
   "execution_count": null,
   "id": "90b77dbf",
   "metadata": {},
   "outputs": [
    {
     "ename": "",
     "evalue": "",
     "output_type": "error",
     "traceback": [
      "\u001b[1;31mRunning cells with 'Python 3.9.10 64-bit' requires ipykernel package.\n",
      "Run the following command to install 'ipykernel' into the Python environment. \n",
      "Command: '/usr/local/bin/python3 -m pip install ipykernel -U --user --force-reinstall'"
     ]
    }
   ],
   "source": [
    "%ls\n",
    "%ls ml-latest-small"
   ]
  },
  {
   "cell_type": "code",
   "execution_count": null,
   "id": "c436eb13",
   "metadata": {},
   "outputs": [
    {
     "ename": "",
     "evalue": "",
     "output_type": "error",
     "traceback": [
      "\u001b[1;31mRunning cells with 'Python 3.9.10 64-bit' requires ipykernel package.\n",
      "Run the following command to install 'ipykernel' into the Python environment. \n",
      "Command: '/usr/local/bin/python3 -m pip install ipykernel -U --user --force-reinstall'"
     ]
    }
   ],
   "source": [
    "MOVIES_CSV = 'ml-latest-small/movies.csv'\n",
    "LINKS_CSV = 'ml-latest-small/links.csv'\n",
    "RATINGS_CSV = 'ml-latest-small/ratings.csv'\n",
    "TAGS_CSV = 'ml-latest-small/tags.csv'"
   ]
  },
  {
   "cell_type": "markdown",
   "id": "5a7339ee",
   "metadata": {},
   "source": [
    "## Movies analysis\n",
    "\n",
    "### Distribution by release year"
   ]
  },
  {
   "cell_type": "code",
   "execution_count": null,
   "id": "0c7e90dd",
   "metadata": {},
   "outputs": [
    {
     "ename": "",
     "evalue": "",
     "output_type": "error",
     "traceback": [
      "\u001b[1;31mRunning cells with 'Python 3.9.10 64-bit' requires ipykernel package.\n",
      "Run the following command to install 'ipykernel' into the Python environment. \n",
      "Command: '/usr/local/bin/python3 -m pip install ipykernel -U --user --force-reinstall'"
     ]
    }
   ],
   "source": [
    "movies = Movies(MOVIES_CSV)"
   ]
  },
  {
   "cell_type": "code",
   "execution_count": null,
   "id": "1594467c",
   "metadata": {},
   "outputs": [
    {
     "ename": "",
     "evalue": "",
     "output_type": "error",
     "traceback": [
      "\u001b[1;31mRunning cells with 'Python 3.9.10 64-bit' requires ipykernel package.\n",
      "Run the following command to install 'ipykernel' into the Python environment. \n",
      "Command: '/usr/local/bin/python3 -m pip install ipykernel -U --user --force-reinstall'"
     ]
    }
   ],
   "source": [
    "%timeit movies.dist_by_release()"
   ]
  },
  {
   "cell_type": "code",
   "execution_count": null,
   "id": "3a90bb4f",
   "metadata": {
    "scrolled": false
   },
   "outputs": [
    {
     "ename": "",
     "evalue": "",
     "output_type": "error",
     "traceback": [
      "\u001b[1;31mRunning cells with 'Python 3.9.10 64-bit' requires ipykernel package.\n",
      "Run the following command to install 'ipykernel' into the Python environment. \n",
      "Command: '/usr/local/bin/python3 -m pip install ipykernel -U --user --force-reinstall'"
     ]
    }
   ],
   "source": [
    "dist_by_release = movies.dist_by_release()\n",
    "\n",
    "tmp = list(dist_by_release.items())\n",
    "for index in range(len(tmp)):\n",
    "    print(f'{tmp[index][0]} : {tmp[index][1]}', end='\\t')\n",
    "    index += 1\n",
    "    if index % 5 == 0:\n",
    "        print()\n",
    "\n",
    "print('\\n')"
   ]
  },
  {
   "cell_type": "markdown",
   "id": "502e8821",
   "metadata": {},
   "source": [
    "### Distribution of genres"
   ]
  },
  {
   "cell_type": "code",
   "execution_count": null,
   "id": "b9166f40",
   "metadata": {},
   "outputs": [
    {
     "ename": "",
     "evalue": "",
     "output_type": "error",
     "traceback": [
      "\u001b[1;31mRunning cells with 'Python 3.9.10 64-bit' requires ipykernel package.\n",
      "Run the following command to install 'ipykernel' into the Python environment. \n",
      "Command: '/usr/local/bin/python3 -m pip install ipykernel -U --user --force-reinstall'"
     ]
    }
   ],
   "source": [
    "%timeit movies.dist_by_genres()"
   ]
  },
  {
   "cell_type": "code",
   "execution_count": null,
   "id": "c771dc36",
   "metadata": {},
   "outputs": [
    {
     "ename": "",
     "evalue": "",
     "output_type": "error",
     "traceback": [
      "\u001b[1;31mRunning cells with 'Python 3.9.10 64-bit' requires ipykernel package.\n",
      "Run the following command to install 'ipykernel' into the Python environment. \n",
      "Command: '/usr/local/bin/python3 -m pip install ipykernel -U --user --force-reinstall'"
     ]
    }
   ],
   "source": [
    "movies = Movies(MOVIES_CSV)\n",
    "\n",
    "for key, value in movies.dist_by_genres().items():\n",
    "    print(f'{key} : {value}')\n",
    "\n",
    "print()"
   ]
  },
  {
   "cell_type": "markdown",
   "id": "b179de39",
   "metadata": {},
   "source": [
    "### 30 most genres films"
   ]
  },
  {
   "cell_type": "code",
   "execution_count": null,
   "id": "43e17486",
   "metadata": {},
   "outputs": [
    {
     "ename": "",
     "evalue": "",
     "output_type": "error",
     "traceback": [
      "\u001b[1;31mRunning cells with 'Python 3.9.10 64-bit' requires ipykernel package.\n",
      "Run the following command to install 'ipykernel' into the Python environment. \n",
      "Command: '/usr/local/bin/python3 -m pip install ipykernel -U --user --force-reinstall'"
     ]
    }
   ],
   "source": [
    "%timeit movies.most_genres(30)"
   ]
  },
  {
   "cell_type": "code",
   "execution_count": null,
   "id": "6f09adb7",
   "metadata": {},
   "outputs": [
    {
     "ename": "",
     "evalue": "",
     "output_type": "error",
     "traceback": [
      "\u001b[1;31mRunning cells with 'Python 3.9.10 64-bit' requires ipykernel package.\n",
      "Run the following command to install 'ipykernel' into the Python environment. \n",
      "Command: '/usr/local/bin/python3 -m pip install ipykernel -U --user --force-reinstall'"
     ]
    }
   ],
   "source": [
    "movies = Movies(MOVIES_CSV)\n",
    "\n",
    "print(f'{\"Film\":<70}Ganres number')\n",
    "for key, value in movies.most_genres(30).items():\n",
    "    print(f'{key:<70}{value}')\n",
    "\n",
    "print()"
   ]
  },
  {
   "cell_type": "markdown",
   "id": "c3282e2c",
   "metadata": {},
   "source": [
    "## Links analysis\n",
    "\n",
    "### Get imdb information"
   ]
  },
  {
   "cell_type": "code",
   "execution_count": null,
   "id": "a26ea25a",
   "metadata": {},
   "outputs": [
    {
     "ename": "",
     "evalue": "",
     "output_type": "error",
     "traceback": [
      "\u001b[1;31mRunning cells with 'Python 3.9.10 64-bit' requires ipykernel package.\n",
      "Run the following command to install 'ipykernel' into the Python environment. \n",
      "Command: '/usr/local/bin/python3 -m pip install ipykernel -U --user --force-reinstall'"
     ]
    }
   ],
   "source": [
    "links = Links(LINKS_CSV, movies)"
   ]
  },
  {
   "cell_type": "code",
   "execution_count": null,
   "id": "c52d474e",
   "metadata": {},
   "outputs": [
    {
     "ename": "",
     "evalue": "",
     "output_type": "error",
     "traceback": [
      "\u001b[1;31mRunning cells with 'Python 3.9.10 64-bit' requires ipykernel package.\n",
      "Run the following command to install 'ipykernel' into the Python environment. \n",
      "Command: '/usr/local/bin/python3 -m pip install ipykernel -U --user --force-reinstall'"
     ]
    }
   ],
   "source": [
    "%timeit links.get_imdb([1, 3, 5, 7, 15], ['Director', 'Budget', 'Gross worldwide', 'Runtime'])"
   ]
  },
  {
   "cell_type": "code",
   "execution_count": null,
   "id": "7fe39aae",
   "metadata": {},
   "outputs": [
    {
     "ename": "",
     "evalue": "",
     "output_type": "error",
     "traceback": [
      "\u001b[1;31mRunning cells with 'Python 3.9.10 64-bit' requires ipykernel package.\n",
      "Run the following command to install 'ipykernel' into the Python environment. \n",
      "Command: '/usr/local/bin/python3 -m pip install ipykernel -U --user --force-reinstall'"
     ]
    }
   ],
   "source": [
    "fields = ['Director', 'Budget', 'Gross worldwide', 'Runtime']\n",
    "imdb_info = links.get_imdb([1, 3, 5, 7, 15], fields)\n",
    "\n",
    "print('MovieId', *fields, sep='\\t\\t')\n",
    "for movie in imdb_info:\n",
    "    print(*movie, sep='\\t\\t')"
   ]
  },
  {
   "cell_type": "markdown",
   "id": "a73f3da3",
   "metadata": {},
   "source": [
    "### Top directors"
   ]
  },
  {
   "cell_type": "code",
   "execution_count": null,
   "id": "1586c1ca",
   "metadata": {},
   "outputs": [
    {
     "ename": "",
     "evalue": "",
     "output_type": "error",
     "traceback": [
      "\u001b[1;31mRunning cells with 'Python 3.9.10 64-bit' requires ipykernel package.\n",
      "Run the following command to install 'ipykernel' into the Python environment. \n",
      "Command: '/usr/local/bin/python3 -m pip install ipykernel -U --user --force-reinstall'"
     ]
    }
   ],
   "source": [
    "%timeit -r 1 -n 1 links.top_directors(20)"
   ]
  },
  {
   "cell_type": "code",
   "execution_count": null,
   "id": "7db19e2d",
   "metadata": {},
   "outputs": [
    {
     "ename": "",
     "evalue": "",
     "output_type": "error",
     "traceback": [
      "\u001b[1;31mRunning cells with 'Python 3.9.10 64-bit' requires ipykernel package.\n",
      "Run the following command to install 'ipykernel' into the Python environment. \n",
      "Command: '/usr/local/bin/python3 -m pip install ipykernel -U --user --force-reinstall'"
     ]
    }
   ],
   "source": [
    "top_directors = links.top_directors(20)\n",
    "\n",
    "print(f'{\"Director\":<20}Films count')\n",
    "for key, value in top_directors.items():\n",
    "    if key is None:\n",
    "        key = 'Null'\n",
    "    print(f'{key:<20}{value}')"
   ]
  },
  {
   "cell_type": "markdown",
   "id": "3c6ad8b9",
   "metadata": {},
   "source": [
    "### Most expensive films"
   ]
  },
  {
   "cell_type": "code",
   "execution_count": null,
   "id": "7bea3a92",
   "metadata": {},
   "outputs": [
    {
     "ename": "",
     "evalue": "",
     "output_type": "error",
     "traceback": [
      "\u001b[1;31mRunning cells with 'Python 3.9.10 64-bit' requires ipykernel package.\n",
      "Run the following command to install 'ipykernel' into the Python environment. \n",
      "Command: '/usr/local/bin/python3 -m pip install ipykernel -U --user --force-reinstall'"
     ]
    }
   ],
   "source": [
    "%timeit links.most_expensive(20)"
   ]
  },
  {
   "cell_type": "code",
   "execution_count": null,
   "id": "e16d5719",
   "metadata": {
    "scrolled": false
   },
   "outputs": [
    {
     "ename": "",
     "evalue": "",
     "output_type": "error",
     "traceback": [
      "\u001b[1;31mRunning cells with 'Python 3.9.10 64-bit' requires ipykernel package.\n",
      "Run the following command to install 'ipykernel' into the Python environment. \n",
      "Command: '/usr/local/bin/python3 -m pip install ipykernel -U --user --force-reinstall'"
     ]
    }
   ],
   "source": [
    "most_expensive = links.most_expensive(20)\n",
    "\n",
    "print(f'{\"Film\":<40}Budget')\n",
    "for key, value in most_expensive.items():\n",
    "    print(f'{key:<40}{value}')"
   ]
  },
  {
   "cell_type": "markdown",
   "id": "f83aea8e",
   "metadata": {},
   "source": [
    "### Most profitable films"
   ]
  },
  {
   "cell_type": "code",
   "execution_count": null,
   "id": "850098ad",
   "metadata": {},
   "outputs": [
    {
     "ename": "",
     "evalue": "",
     "output_type": "error",
     "traceback": [
      "\u001b[1;31mRunning cells with 'Python 3.9.10 64-bit' requires ipykernel package.\n",
      "Run the following command to install 'ipykernel' into the Python environment. \n",
      "Command: '/usr/local/bin/python3 -m pip install ipykernel -U --user --force-reinstall'"
     ]
    }
   ],
   "source": [
    "%timeit links.most_profitable(20)"
   ]
  },
  {
   "cell_type": "code",
   "execution_count": null,
   "id": "69ab700e",
   "metadata": {},
   "outputs": [
    {
     "ename": "",
     "evalue": "",
     "output_type": "error",
     "traceback": [
      "\u001b[1;31mRunning cells with 'Python 3.9.10 64-bit' requires ipykernel package.\n",
      "Run the following command to install 'ipykernel' into the Python environment. \n",
      "Command: '/usr/local/bin/python3 -m pip install ipykernel -U --user --force-reinstall'"
     ]
    }
   ],
   "source": [
    "most_profitable = links.most_profitable(20)\n",
    "\n",
    "print(f'{\"Film\":<40}Profit')\n",
    "for key, value in most_profitable.items():\n",
    "    print(f'{key:<40}{value}')"
   ]
  },
  {
   "cell_type": "markdown",
   "id": "3b0602ff",
   "metadata": {},
   "source": [
    "### Longest films"
   ]
  },
  {
   "cell_type": "code",
   "execution_count": null,
   "id": "ca2e8fed",
   "metadata": {},
   "outputs": [
    {
     "ename": "",
     "evalue": "",
     "output_type": "error",
     "traceback": [
      "\u001b[1;31mRunning cells with 'Python 3.9.10 64-bit' requires ipykernel package.\n",
      "Run the following command to install 'ipykernel' into the Python environment. \n",
      "Command: '/usr/local/bin/python3 -m pip install ipykernel -U --user --force-reinstall'"
     ]
    }
   ],
   "source": [
    "%timeit links.longest(20)"
   ]
  },
  {
   "cell_type": "code",
   "execution_count": null,
   "id": "59a7f0d2",
   "metadata": {},
   "outputs": [
    {
     "ename": "",
     "evalue": "",
     "output_type": "error",
     "traceback": [
      "\u001b[1;31mRunning cells with 'Python 3.9.10 64-bit' requires ipykernel package.\n",
      "Run the following command to install 'ipykernel' into the Python environment. \n",
      "Command: '/usr/local/bin/python3 -m pip install ipykernel -U --user --force-reinstall'"
     ]
    }
   ],
   "source": [
    "longest = links.longest(20)\n",
    "\n",
    "print(f'{\"Film\":<40}Runtime')\n",
    "for key, value in longest.items():\n",
    "    print(f'{key:<40}{value}')"
   ]
  },
  {
   "cell_type": "markdown",
   "id": "f376fce9",
   "metadata": {},
   "source": [
    "### Cost per unit top"
   ]
  },
  {
   "cell_type": "code",
   "execution_count": null,
   "id": "1e8be2da",
   "metadata": {},
   "outputs": [
    {
     "ename": "",
     "evalue": "",
     "output_type": "error",
     "traceback": [
      "\u001b[1;31mRunning cells with 'Python 3.9.10 64-bit' requires ipykernel package.\n",
      "Run the following command to install 'ipykernel' into the Python environment. \n",
      "Command: '/usr/local/bin/python3 -m pip install ipykernel -U --user --force-reinstall'"
     ]
    }
   ],
   "source": [
    "%timeit links.top_cost_per_minute(20)"
   ]
  },
  {
   "cell_type": "code",
   "execution_count": null,
   "id": "ab0d2bc0",
   "metadata": {},
   "outputs": [
    {
     "ename": "",
     "evalue": "",
     "output_type": "error",
     "traceback": [
      "\u001b[1;31mRunning cells with 'Python 3.9.10 64-bit' requires ipykernel package.\n",
      "Run the following command to install 'ipykernel' into the Python environment. \n",
      "Command: '/usr/local/bin/python3 -m pip install ipykernel -U --user --force-reinstall'"
     ]
    }
   ],
   "source": [
    "top_cost_per_minute = links.top_cost_per_minute(20)\n",
    "\n",
    "print(f'{\"Film\":<40}Cost per minute')\n",
    "for key, value in top_cost_per_minute.items():\n",
    "    print(f'{key:<40}{value}')"
   ]
  },
  {
   "cell_type": "markdown",
   "id": "c5c03a30",
   "metadata": {},
   "source": [
    "## Ratings.Movies analysis\n",
    "### Distribution of ratings count by year"
   ]
  },
  {
   "cell_type": "code",
   "execution_count": null,
   "id": "ce81db38",
   "metadata": {},
   "outputs": [
    {
     "ename": "",
     "evalue": "",
     "output_type": "error",
     "traceback": [
      "\u001b[1;31mRunning cells with 'Python 3.9.10 64-bit' requires ipykernel package.\n",
      "Run the following command to install 'ipykernel' into the Python environment. \n",
      "Command: '/usr/local/bin/python3 -m pip install ipykernel -U --user --force-reinstall'"
     ]
    }
   ],
   "source": [
    "ratings = Ratings(RATINGS_CSV)\n",
    "movies_ratings = Ratings.Movies(ratings, movies)"
   ]
  },
  {
   "cell_type": "code",
   "execution_count": null,
   "id": "31e4bd03",
   "metadata": {},
   "outputs": [
    {
     "ename": "",
     "evalue": "",
     "output_type": "error",
     "traceback": [
      "\u001b[1;31mRunning cells with 'Python 3.9.10 64-bit' requires ipykernel package.\n",
      "Run the following command to install 'ipykernel' into the Python environment. \n",
      "Command: '/usr/local/bin/python3 -m pip install ipykernel -U --user --force-reinstall'"
     ]
    }
   ],
   "source": [
    "%timeit movies_ratings.dist_by_year()"
   ]
  },
  {
   "cell_type": "code",
   "execution_count": null,
   "id": "5f779268",
   "metadata": {
    "scrolled": true
   },
   "outputs": [
    {
     "ename": "",
     "evalue": "",
     "output_type": "error",
     "traceback": [
      "\u001b[1;31mRunning cells with 'Python 3.9.10 64-bit' requires ipykernel package.\n",
      "Run the following command to install 'ipykernel' into the Python environment. \n",
      "Command: '/usr/local/bin/python3 -m pip install ipykernel -U --user --force-reinstall'"
     ]
    }
   ],
   "source": [
    "dist_by_year = movies_ratings.dist_by_year()\n",
    "\n",
    "print(f'{\"Year\":<6}Ratings count')\n",
    "for key, value in dist_by_year.items():\n",
    "    print(f'{key:<6}{value}')"
   ]
  },
  {
   "cell_type": "markdown",
   "id": "c754cd7f",
   "metadata": {},
   "source": [
    "### Distribution of ratings count by rating value"
   ]
  },
  {
   "cell_type": "code",
   "execution_count": null,
   "id": "d2b36b4c",
   "metadata": {
    "scrolled": true
   },
   "outputs": [
    {
     "ename": "",
     "evalue": "",
     "output_type": "error",
     "traceback": [
      "\u001b[1;31mRunning cells with 'Python 3.9.10 64-bit' requires ipykernel package.\n",
      "Run the following command to install 'ipykernel' into the Python environment. \n",
      "Command: '/usr/local/bin/python3 -m pip install ipykernel -U --user --force-reinstall'"
     ]
    }
   ],
   "source": [
    "%timeit movies_ratings.dist_by_rating()"
   ]
  },
  {
   "cell_type": "code",
   "execution_count": null,
   "id": "5d70af3d",
   "metadata": {
    "scrolled": false
   },
   "outputs": [
    {
     "ename": "",
     "evalue": "",
     "output_type": "error",
     "traceback": [
      "\u001b[1;31mRunning cells with 'Python 3.9.10 64-bit' requires ipykernel package.\n",
      "Run the following command to install 'ipykernel' into the Python environment. \n",
      "Command: '/usr/local/bin/python3 -m pip install ipykernel -U --user --force-reinstall'"
     ]
    }
   ],
   "source": [
    "dist_by_rating = movies_ratings.dist_by_rating()\n",
    "\n",
    "print(f'{\"Rating value\":<15}Ratings count')\n",
    "for key, value in dist_by_rating.items():\n",
    "    print(f'{key:<15}{value}')"
   ]
  },
  {
   "cell_type": "markdown",
   "id": "20ccbf2b",
   "metadata": {},
   "source": [
    "### Top movies by rating (average)"
   ]
  },
  {
   "cell_type": "code",
   "execution_count": null,
   "id": "87f42b32",
   "metadata": {
    "scrolled": true
   },
   "outputs": [
    {
     "ename": "",
     "evalue": "",
     "output_type": "error",
     "traceback": [
      "\u001b[1;31mRunning cells with 'Python 3.9.10 64-bit' requires ipykernel package.\n",
      "Run the following command to install 'ipykernel' into the Python environment. \n",
      "Command: '/usr/local/bin/python3 -m pip install ipykernel -U --user --force-reinstall'"
     ]
    }
   ],
   "source": [
    "%timeit movies_ratings.top_by_ratings(30)"
   ]
  },
  {
   "cell_type": "code",
   "execution_count": null,
   "id": "a10dd01e",
   "metadata": {
    "scrolled": false
   },
   "outputs": [
    {
     "ename": "",
     "evalue": "",
     "output_type": "error",
     "traceback": [
      "\u001b[1;31mRunning cells with 'Python 3.9.10 64-bit' requires ipykernel package.\n",
      "Run the following command to install 'ipykernel' into the Python environment. \n",
      "Command: '/usr/local/bin/python3 -m pip install ipykernel -U --user --force-reinstall'"
     ]
    }
   ],
   "source": [
    "top_by_ratings = movies_ratings.top_by_ratings(30)\n",
    "\n",
    "print(f'{\"Movie\":<75}Average rating')\n",
    "for key, value in top_by_ratings.items():\n",
    "    print(f'{key:<75}{value}')"
   ]
  },
  {
   "cell_type": "markdown",
   "id": "c54730fc",
   "metadata": {},
   "source": [
    "### Top movies by rating (median)"
   ]
  },
  {
   "cell_type": "code",
   "execution_count": null,
   "id": "4df2a910",
   "metadata": {
    "scrolled": true
   },
   "outputs": [
    {
     "ename": "",
     "evalue": "",
     "output_type": "error",
     "traceback": [
      "\u001b[1;31mRunning cells with 'Python 3.9.10 64-bit' requires ipykernel package.\n",
      "Run the following command to install 'ipykernel' into the Python environment. \n",
      "Command: '/usr/local/bin/python3 -m pip install ipykernel -U --user --force-reinstall'"
     ]
    }
   ],
   "source": [
    "%timeit movies_ratings.top_by_ratings(30, metric=Statistics.median)"
   ]
  },
  {
   "cell_type": "code",
   "execution_count": null,
   "id": "389d9705",
   "metadata": {
    "scrolled": false
   },
   "outputs": [
    {
     "ename": "",
     "evalue": "",
     "output_type": "error",
     "traceback": [
      "\u001b[1;31mRunning cells with 'Python 3.9.10 64-bit' requires ipykernel package.\n",
      "Run the following command to install 'ipykernel' into the Python environment. \n",
      "Command: '/usr/local/bin/python3 -m pip install ipykernel -U --user --force-reinstall'"
     ]
    }
   ],
   "source": [
    "top_by_ratings = movies_ratings.top_by_ratings(30, metric=Statistics.median)\n",
    "\n",
    "print(f'{\"Movie\":<75}Median rating')\n",
    "for key, value in top_by_ratings.items():\n",
    "    print(f'{key:<75}{value}')"
   ]
  },
  {
   "cell_type": "markdown",
   "id": "1648d934",
   "metadata": {},
   "source": [
    "### Top controversial movies"
   ]
  },
  {
   "cell_type": "code",
   "execution_count": null,
   "id": "df131790",
   "metadata": {
    "scrolled": true
   },
   "outputs": [
    {
     "ename": "",
     "evalue": "",
     "output_type": "error",
     "traceback": [
      "\u001b[1;31mRunning cells with 'Python 3.9.10 64-bit' requires ipykernel package.\n",
      "Run the following command to install 'ipykernel' into the Python environment. \n",
      "Command: '/usr/local/bin/python3 -m pip install ipykernel -U --user --force-reinstall'"
     ]
    }
   ],
   "source": [
    "%timeit movies_ratings.top_controversial(30)"
   ]
  },
  {
   "cell_type": "code",
   "execution_count": null,
   "id": "aef44f8e",
   "metadata": {
    "scrolled": false
   },
   "outputs": [
    {
     "ename": "",
     "evalue": "",
     "output_type": "error",
     "traceback": [
      "\u001b[1;31mRunning cells with 'Python 3.9.10 64-bit' requires ipykernel package.\n",
      "Run the following command to install 'ipykernel' into the Python environment. \n",
      "Command: '/usr/local/bin/python3 -m pip install ipykernel -U --user --force-reinstall'"
     ]
    }
   ],
   "source": [
    "top_controversial = movies_ratings.top_controversial(30)\n",
    "\n",
    "print(f'{\"Movie\":<75}Rating variance')\n",
    "for key, value in top_controversial.items():\n",
    "    print(f'{key:<75}{value}')"
   ]
  },
  {
   "cell_type": "markdown",
   "id": "32cd4b89",
   "metadata": {},
   "source": [
    "## Ratings.Users analysis\n",
    "### Distribution of users by ratings count"
   ]
  },
  {
   "cell_type": "code",
   "execution_count": null,
   "id": "529cccd3",
   "metadata": {},
   "outputs": [
    {
     "ename": "",
     "evalue": "",
     "output_type": "error",
     "traceback": [
      "\u001b[1;31mRunning cells with 'Python 3.9.10 64-bit' requires ipykernel package.\n",
      "Run the following command to install 'ipykernel' into the Python environment. \n",
      "Command: '/usr/local/bin/python3 -m pip install ipykernel -U --user --force-reinstall'"
     ]
    }
   ],
   "source": [
    "users_ratings = Ratings.Users(ratings, movies)"
   ]
  },
  {
   "cell_type": "code",
   "execution_count": null,
   "id": "48e54574",
   "metadata": {},
   "outputs": [
    {
     "ename": "",
     "evalue": "",
     "output_type": "error",
     "traceback": [
      "\u001b[1;31mRunning cells with 'Python 3.9.10 64-bit' requires ipykernel package.\n",
      "Run the following command to install 'ipykernel' into the Python environment. \n",
      "Command: '/usr/local/bin/python3 -m pip install ipykernel -U --user --force-reinstall'"
     ]
    }
   ],
   "source": [
    "%timeit users_ratings.dist_by_ratings_number()"
   ]
  },
  {
   "cell_type": "code",
   "execution_count": null,
   "id": "fdf18ea1",
   "metadata": {
    "scrolled": true
   },
   "outputs": [
    {
     "ename": "",
     "evalue": "",
     "output_type": "error",
     "traceback": [
      "\u001b[1;31mRunning cells with 'Python 3.9.10 64-bit' requires ipykernel package.\n",
      "Run the following command to install 'ipykernel' into the Python environment. \n",
      "Command: '/usr/local/bin/python3 -m pip install ipykernel -U --user --force-reinstall'"
     ]
    }
   ],
   "source": [
    "dist_by_ratings_number = users_ratings.dist_by_ratings_number()\n",
    "\n",
    "print(f'{\"User\":<8}Number of ratings')\n",
    "for key, value in dist_by_ratings_number.items():\n",
    "    print(f'{key:<8}{value}')"
   ]
  },
  {
   "cell_type": "markdown",
   "id": "60852230",
   "metadata": {},
   "source": [
    "### Distribution of users by ratings values (average)"
   ]
  },
  {
   "cell_type": "code",
   "execution_count": null,
   "id": "16a17b0e",
   "metadata": {},
   "outputs": [
    {
     "ename": "",
     "evalue": "",
     "output_type": "error",
     "traceback": [
      "\u001b[1;31mRunning cells with 'Python 3.9.10 64-bit' requires ipykernel package.\n",
      "Run the following command to install 'ipykernel' into the Python environment. \n",
      "Command: '/usr/local/bin/python3 -m pip install ipykernel -U --user --force-reinstall'"
     ]
    }
   ],
   "source": [
    "%timeit users_ratings.dist_by_ratings_values()"
   ]
  },
  {
   "cell_type": "code",
   "execution_count": null,
   "id": "f63c1efb",
   "metadata": {
    "scrolled": true
   },
   "outputs": [
    {
     "ename": "",
     "evalue": "",
     "output_type": "error",
     "traceback": [
      "\u001b[1;31mRunning cells with 'Python 3.9.10 64-bit' requires ipykernel package.\n",
      "Run the following command to install 'ipykernel' into the Python environment. \n",
      "Command: '/usr/local/bin/python3 -m pip install ipykernel -U --user --force-reinstall'"
     ]
    }
   ],
   "source": [
    "dist_by_ratings_values = users_ratings.dist_by_ratings_values()\n",
    "\n",
    "print(f'{\"User\":<8}Average rating value')\n",
    "for key, value in dist_by_ratings_values.items():\n",
    "    print(f'{key:<8}{value}')"
   ]
  },
  {
   "cell_type": "markdown",
   "id": "5df28751",
   "metadata": {},
   "source": [
    "### Distribution of users by ratings values (median)"
   ]
  },
  {
   "cell_type": "code",
   "execution_count": null,
   "id": "fbfdf892",
   "metadata": {},
   "outputs": [
    {
     "ename": "",
     "evalue": "",
     "output_type": "error",
     "traceback": [
      "\u001b[1;31mRunning cells with 'Python 3.9.10 64-bit' requires ipykernel package.\n",
      "Run the following command to install 'ipykernel' into the Python environment. \n",
      "Command: '/usr/local/bin/python3 -m pip install ipykernel -U --user --force-reinstall'"
     ]
    }
   ],
   "source": [
    "%timeit users_ratings.dist_by_ratings_values(metric=Statistics.median)"
   ]
  },
  {
   "cell_type": "code",
   "execution_count": null,
   "id": "70d52b9b",
   "metadata": {
    "scrolled": true
   },
   "outputs": [
    {
     "ename": "",
     "evalue": "",
     "output_type": "error",
     "traceback": [
      "\u001b[1;31mRunning cells with 'Python 3.9.10 64-bit' requires ipykernel package.\n",
      "Run the following command to install 'ipykernel' into the Python environment. \n",
      "Command: '/usr/local/bin/python3 -m pip install ipykernel -U --user --force-reinstall'"
     ]
    }
   ],
   "source": [
    "dist_by_ratings_values = users_ratings.dist_by_ratings_values(metric=Statistics.median)\n",
    "\n",
    "print(f'{\"User\":<8}Median of rating value')\n",
    "for key, value in dist_by_ratings_values.items():\n",
    "    print(f'{key:<8}{value}')"
   ]
  },
  {
   "cell_type": "markdown",
   "id": "7a3bf67e",
   "metadata": {},
   "source": [
    "### Top of users by variance of their ratings"
   ]
  },
  {
   "cell_type": "code",
   "execution_count": null,
   "id": "1cc7aebf",
   "metadata": {},
   "outputs": [
    {
     "ename": "",
     "evalue": "",
     "output_type": "error",
     "traceback": [
      "\u001b[1;31mRunning cells with 'Python 3.9.10 64-bit' requires ipykernel package.\n",
      "Run the following command to install 'ipykernel' into the Python environment. \n",
      "Command: '/usr/local/bin/python3 -m pip install ipykernel -U --user --force-reinstall'"
     ]
    }
   ],
   "source": [
    "%timeit users_ratings.top_by_variance(30)"
   ]
  },
  {
   "cell_type": "code",
   "execution_count": null,
   "id": "cbe58a11",
   "metadata": {
    "scrolled": false
   },
   "outputs": [
    {
     "ename": "",
     "evalue": "",
     "output_type": "error",
     "traceback": [
      "\u001b[1;31mRunning cells with 'Python 3.9.10 64-bit' requires ipykernel package.\n",
      "Run the following command to install 'ipykernel' into the Python environment. \n",
      "Command: '/usr/local/bin/python3 -m pip install ipykernel -U --user --force-reinstall'"
     ]
    }
   ],
   "source": [
    "top_by_variance = users_ratings.top_by_variance(30)\n",
    "\n",
    "print(f'{\"User\":<8}Variance of ratings')\n",
    "for key, value in top_by_variance.items():\n",
    "    print(f'{key:<8}{value}')"
   ]
  },
  {
   "cell_type": "markdown",
   "id": "d95c3d53",
   "metadata": {},
   "source": [
    "## Tags analysis\n",
    "\n",
    "### Most words"
   ]
  },
  {
   "cell_type": "code",
   "execution_count": null,
   "id": "12651e86",
   "metadata": {},
   "outputs": [
    {
     "ename": "",
     "evalue": "",
     "output_type": "error",
     "traceback": [
      "\u001b[1;31mRunning cells with 'Python 3.9.10 64-bit' requires ipykernel package.\n",
      "Run the following command to install 'ipykernel' into the Python environment. \n",
      "Command: '/usr/local/bin/python3 -m pip install ipykernel -U --user --force-reinstall'"
     ]
    }
   ],
   "source": [
    "tags = Tags(TAGS_CSV)"
   ]
  },
  {
   "cell_type": "code",
   "execution_count": null,
   "id": "bd96e025",
   "metadata": {},
   "outputs": [
    {
     "ename": "",
     "evalue": "",
     "output_type": "error",
     "traceback": [
      "\u001b[1;31mRunning cells with 'Python 3.9.10 64-bit' requires ipykernel package.\n",
      "Run the following command to install 'ipykernel' into the Python environment. \n",
      "Command: '/usr/local/bin/python3 -m pip install ipykernel -U --user --force-reinstall'"
     ]
    }
   ],
   "source": [
    "%timeit tags.most_words(30)"
   ]
  },
  {
   "cell_type": "code",
   "execution_count": null,
   "id": "18ca8a34",
   "metadata": {
    "scrolled": false
   },
   "outputs": [
    {
     "ename": "",
     "evalue": "",
     "output_type": "error",
     "traceback": [
      "\u001b[1;31mRunning cells with 'Python 3.9.10 64-bit' requires ipykernel package.\n",
      "Run the following command to install 'ipykernel' into the Python environment. \n",
      "Command: '/usr/local/bin/python3 -m pip install ipykernel -U --user --force-reinstall'"
     ]
    }
   ],
   "source": [
    "dist_by_release = tags.most_words(30)\n",
    "\n",
    "print(f'{\"Tag\":<90}Number of words')\n",
    "for key, value in dist_by_release.items():\n",
    "    print(f'{key:<90}{value}')"
   ]
  },
  {
   "cell_type": "markdown",
   "id": "b163862c",
   "metadata": {},
   "source": [
    "### Longest"
   ]
  },
  {
   "cell_type": "code",
   "execution_count": null,
   "id": "c42932b5",
   "metadata": {},
   "outputs": [
    {
     "ename": "",
     "evalue": "",
     "output_type": "error",
     "traceback": [
      "\u001b[1;31mRunning cells with 'Python 3.9.10 64-bit' requires ipykernel package.\n",
      "Run the following command to install 'ipykernel' into the Python environment. \n",
      "Command: '/usr/local/bin/python3 -m pip install ipykernel -U --user --force-reinstall'"
     ]
    }
   ],
   "source": [
    "%timeit tags.longest(30)"
   ]
  },
  {
   "cell_type": "code",
   "execution_count": null,
   "id": "6180088d",
   "metadata": {
    "scrolled": false
   },
   "outputs": [
    {
     "ename": "",
     "evalue": "",
     "output_type": "error",
     "traceback": [
      "\u001b[1;31mRunning cells with 'Python 3.9.10 64-bit' requires ipykernel package.\n",
      "Run the following command to install 'ipykernel' into the Python environment. \n",
      "Command: '/usr/local/bin/python3 -m pip install ipykernel -U --user --force-reinstall'"
     ]
    }
   ],
   "source": [
    "longest = tags.longest(30)\n",
    "\n",
    "print('Tag\\n---------')\n",
    "for tag in longest:\n",
    "    print(tag)"
   ]
  },
  {
   "cell_type": "markdown",
   "id": "7e621b74",
   "metadata": {},
   "source": [
    "### Most words and longest"
   ]
  },
  {
   "cell_type": "code",
   "execution_count": null,
   "id": "efe5b81b",
   "metadata": {},
   "outputs": [
    {
     "ename": "",
     "evalue": "",
     "output_type": "error",
     "traceback": [
      "\u001b[1;31mRunning cells with 'Python 3.9.10 64-bit' requires ipykernel package.\n",
      "Run the following command to install 'ipykernel' into the Python environment. \n",
      "Command: '/usr/local/bin/python3 -m pip install ipykernel -U --user --force-reinstall'"
     ]
    }
   ],
   "source": [
    "%timeit tags.most_words_and_longest(30)"
   ]
  },
  {
   "cell_type": "code",
   "execution_count": null,
   "id": "d3b10b26",
   "metadata": {
    "scrolled": false
   },
   "outputs": [
    {
     "ename": "",
     "evalue": "",
     "output_type": "error",
     "traceback": [
      "\u001b[1;31mRunning cells with 'Python 3.9.10 64-bit' requires ipykernel package.\n",
      "Run the following command to install 'ipykernel' into the Python environment. \n",
      "Command: '/usr/local/bin/python3 -m pip install ipykernel -U --user --force-reinstall'"
     ]
    }
   ],
   "source": [
    "most_words_and_longest = tags.most_words_and_longest(30)\n",
    "\n",
    "print('Tag\\n---------')\n",
    "for tag in most_words_and_longest:\n",
    "    print(tag)"
   ]
  },
  {
   "cell_type": "markdown",
   "id": "c9ede0af",
   "metadata": {},
   "source": [
    "### Most popular"
   ]
  },
  {
   "cell_type": "code",
   "execution_count": null,
   "id": "df3bcce5",
   "metadata": {},
   "outputs": [
    {
     "ename": "",
     "evalue": "",
     "output_type": "error",
     "traceback": [
      "\u001b[1;31mRunning cells with 'Python 3.9.10 64-bit' requires ipykernel package.\n",
      "Run the following command to install 'ipykernel' into the Python environment. \n",
      "Command: '/usr/local/bin/python3 -m pip install ipykernel -U --user --force-reinstall'"
     ]
    }
   ],
   "source": [
    "%timeit tags.most_popular(20)"
   ]
  },
  {
   "cell_type": "code",
   "execution_count": null,
   "id": "0c5d46b7",
   "metadata": {
    "scrolled": false
   },
   "outputs": [
    {
     "ename": "",
     "evalue": "",
     "output_type": "error",
     "traceback": [
      "\u001b[1;31mRunning cells with 'Python 3.9.10 64-bit' requires ipykernel package.\n",
      "Run the following command to install 'ipykernel' into the Python environment. \n",
      "Command: '/usr/local/bin/python3 -m pip install ipykernel -U --user --force-reinstall'"
     ]
    }
   ],
   "source": [
    "most_popular = tags.most_popular(20)\n",
    "\n",
    "print(f'{\"Tag\":<30}Usage number')\n",
    "for key, value in most_popular.items():\n",
    "    print(f'{key:<30}{value}')"
   ]
  },
  {
   "cell_type": "markdown",
   "id": "ffc20c5d",
   "metadata": {},
   "source": [
    "### Tags with (some word)"
   ]
  },
  {
   "cell_type": "code",
   "execution_count": null,
   "id": "e15695e6",
   "metadata": {},
   "outputs": [
    {
     "ename": "",
     "evalue": "",
     "output_type": "error",
     "traceback": [
      "\u001b[1;31mRunning cells with 'Python 3.9.10 64-bit' requires ipykernel package.\n",
      "Run the following command to install 'ipykernel' into the Python environment. \n",
      "Command: '/usr/local/bin/python3 -m pip install ipykernel -U --user --force-reinstall'"
     ]
    }
   ],
   "source": [
    "word_for_tag = 'history'"
   ]
  },
  {
   "cell_type": "code",
   "execution_count": null,
   "id": "70e55872",
   "metadata": {},
   "outputs": [
    {
     "ename": "",
     "evalue": "",
     "output_type": "error",
     "traceback": [
      "\u001b[1;31mRunning cells with 'Python 3.9.10 64-bit' requires ipykernel package.\n",
      "Run the following command to install 'ipykernel' into the Python environment. \n",
      "Command: '/usr/local/bin/python3 -m pip install ipykernel -U --user --force-reinstall'"
     ]
    }
   ],
   "source": [
    "%timeit tags.tags_with(word_for_tag)"
   ]
  },
  {
   "cell_type": "code",
   "execution_count": null,
   "id": "e599ed34",
   "metadata": {
    "scrolled": false
   },
   "outputs": [
    {
     "ename": "",
     "evalue": "",
     "output_type": "error",
     "traceback": [
      "\u001b[1;31mRunning cells with 'Python 3.9.10 64-bit' requires ipykernel package.\n",
      "Run the following command to install 'ipykernel' into the Python environment. \n",
      "Command: '/usr/local/bin/python3 -m pip install ipykernel -U --user --force-reinstall'"
     ]
    }
   ],
   "source": [
    "tags_with = tags.tags_with(word_for_tag)\n",
    "\n",
    "print(f'Tags with {word_for_tag}\\n---------')\n",
    "for tag in tags_with:\n",
    "    print(tag)"
   ]
  }
 ],
 "metadata": {
  "kernelspec": {
   "display_name": "Python 3 (ipykernel)",
   "language": "python",
   "name": "python3"
  },
  "language_info": {
   "codemirror_mode": {
    "name": "ipython",
    "version": 3
   },
   "file_extension": ".py",
   "mimetype": "text/x-python",
   "name": "python",
   "nbconvert_exporter": "python",
   "pygments_lexer": "ipython3",
   "version": "3.10.2"
  }
 },
 "nbformat": 4,
 "nbformat_minor": 5
}
