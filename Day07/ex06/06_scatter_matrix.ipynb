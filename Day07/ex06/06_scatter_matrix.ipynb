{
 "cells": [
  {
   "cell_type": "markdown",
   "metadata": {},
   "source": [
    "## Exercise 06 : Scatter Matrix"
   ]
  },
  {
   "cell_type": "markdown",
   "metadata": {},
   "source": [
    "### Import and connection"
   ]
  },
  {
   "cell_type": "code",
   "execution_count": 14,
   "metadata": {},
   "outputs": [
    {
     "name": "stdout",
     "output_type": "stream",
     "text": [
      "OK. Connected to sqlite\n"
     ]
    }
   ],
   "source": [
    "import pandas as pd\n",
    "import sqlite3\n",
    "from pandas.plotting import scatter_matrix\n",
    "\n",
    "try:\n",
    "  connect = sqlite3.connect('../data/checking-logs.sqlite.sqlite')\n",
    "  print('OK. Connected to sqlite')\n",
    "\n",
    "except sqlite3.Error as error:\n",
    "  print('Error with connection:', error)"
   ]
  },
  {
   "cell_type": "markdown",
   "metadata": {},
   "source": [
    "Посмотрим, какие таблицы есть в базе test и control это таблицы, которые мы сами создали (выборки)"
   ]
  },
  {
   "cell_type": "code",
   "execution_count": 15,
   "metadata": {},
   "outputs": [
    {
     "name": "stdout",
     "output_type": "stream",
     "text": [
      "[('pageviews',), ('checker',), ('deadlines',)]\n"
     ]
    }
   ],
   "source": [
    "a = connect.cursor().execute('SELECT name from sqlite_master where type= \"table\"')\n",
    "print(a.fetchall())"
   ]
  },
  {
   "cell_type": "markdown",
   "metadata": {},
   "source": [
    "Создадим таблицу с количеством коммитов"
   ]
  },
  {
   "cell_type": "code",
   "execution_count": 16,
   "metadata": {},
   "outputs": [
    {
     "data": {
      "text/html": [
       "<div>\n",
       "<style scoped>\n",
       "    .dataframe tbody tr th:only-of-type {\n",
       "        vertical-align: middle;\n",
       "    }\n",
       "\n",
       "    .dataframe tbody tr th {\n",
       "        vertical-align: top;\n",
       "    }\n",
       "\n",
       "    .dataframe thead th {\n",
       "        text-align: right;\n",
       "    }\n",
       "</style>\n",
       "<table border=\"1\" class=\"dataframe\">\n",
       "  <thead>\n",
       "    <tr style=\"text-align: right;\">\n",
       "      <th></th>\n",
       "      <th>uid</th>\n",
       "      <th>num_commits</th>\n",
       "    </tr>\n",
       "  </thead>\n",
       "  <tbody>\n",
       "    <tr>\n",
       "      <th>0</th>\n",
       "      <td>user_0</td>\n",
       "      <td>3</td>\n",
       "    </tr>\n",
       "    <tr>\n",
       "      <th>1</th>\n",
       "      <td>user_1</td>\n",
       "      <td>62</td>\n",
       "    </tr>\n",
       "    <tr>\n",
       "      <th>2</th>\n",
       "      <td>user_10</td>\n",
       "      <td>20</td>\n",
       "    </tr>\n",
       "    <tr>\n",
       "      <th>3</th>\n",
       "      <td>user_11</td>\n",
       "      <td>7</td>\n",
       "    </tr>\n",
       "    <tr>\n",
       "      <th>4</th>\n",
       "      <td>user_12</td>\n",
       "      <td>86</td>\n",
       "    </tr>\n",
       "    <tr>\n",
       "      <th>5</th>\n",
       "      <td>user_13</td>\n",
       "      <td>52</td>\n",
       "    </tr>\n",
       "    <tr>\n",
       "      <th>6</th>\n",
       "      <td>user_14</td>\n",
       "      <td>61</td>\n",
       "    </tr>\n",
       "    <tr>\n",
       "      <th>7</th>\n",
       "      <td>user_15</td>\n",
       "      <td>23</td>\n",
       "    </tr>\n",
       "    <tr>\n",
       "      <th>8</th>\n",
       "      <td>user_16</td>\n",
       "      <td>41</td>\n",
       "    </tr>\n",
       "    <tr>\n",
       "      <th>9</th>\n",
       "      <td>user_17</td>\n",
       "      <td>51</td>\n",
       "    </tr>\n",
       "    <tr>\n",
       "      <th>10</th>\n",
       "      <td>user_18</td>\n",
       "      <td>5</td>\n",
       "    </tr>\n",
       "    <tr>\n",
       "      <th>11</th>\n",
       "      <td>user_19</td>\n",
       "      <td>118</td>\n",
       "    </tr>\n",
       "    <tr>\n",
       "      <th>12</th>\n",
       "      <td>user_2</td>\n",
       "      <td>46</td>\n",
       "    </tr>\n",
       "    <tr>\n",
       "      <th>13</th>\n",
       "      <td>user_20</td>\n",
       "      <td>57</td>\n",
       "    </tr>\n",
       "    <tr>\n",
       "      <th>14</th>\n",
       "      <td>user_21</td>\n",
       "      <td>65</td>\n",
       "    </tr>\n",
       "    <tr>\n",
       "      <th>15</th>\n",
       "      <td>user_22</td>\n",
       "      <td>5</td>\n",
       "    </tr>\n",
       "    <tr>\n",
       "      <th>16</th>\n",
       "      <td>user_23</td>\n",
       "      <td>6</td>\n",
       "    </tr>\n",
       "    <tr>\n",
       "      <th>17</th>\n",
       "      <td>user_24</td>\n",
       "      <td>37</td>\n",
       "    </tr>\n",
       "    <tr>\n",
       "      <th>18</th>\n",
       "      <td>user_25</td>\n",
       "      <td>79</td>\n",
       "    </tr>\n",
       "    <tr>\n",
       "      <th>19</th>\n",
       "      <td>user_26</td>\n",
       "      <td>36</td>\n",
       "    </tr>\n",
       "    <tr>\n",
       "      <th>20</th>\n",
       "      <td>user_27</td>\n",
       "      <td>27</td>\n",
       "    </tr>\n",
       "    <tr>\n",
       "      <th>21</th>\n",
       "      <td>user_28</td>\n",
       "      <td>60</td>\n",
       "    </tr>\n",
       "    <tr>\n",
       "      <th>22</th>\n",
       "      <td>user_29</td>\n",
       "      <td>51</td>\n",
       "    </tr>\n",
       "    <tr>\n",
       "      <th>23</th>\n",
       "      <td>user_3</td>\n",
       "      <td>18</td>\n",
       "    </tr>\n",
       "    <tr>\n",
       "      <th>24</th>\n",
       "      <td>user_30</td>\n",
       "      <td>34</td>\n",
       "    </tr>\n",
       "    <tr>\n",
       "      <th>25</th>\n",
       "      <td>user_31</td>\n",
       "      <td>128</td>\n",
       "    </tr>\n",
       "    <tr>\n",
       "      <th>26</th>\n",
       "      <td>user_4</td>\n",
       "      <td>40</td>\n",
       "    </tr>\n",
       "    <tr>\n",
       "      <th>27</th>\n",
       "      <td>user_6</td>\n",
       "      <td>15</td>\n",
       "    </tr>\n",
       "    <tr>\n",
       "      <th>28</th>\n",
       "      <td>user_7</td>\n",
       "      <td>8</td>\n",
       "    </tr>\n",
       "    <tr>\n",
       "      <th>29</th>\n",
       "      <td>user_8</td>\n",
       "      <td>71</td>\n",
       "    </tr>\n",
       "  </tbody>\n",
       "</table>\n",
       "</div>"
      ],
      "text/plain": [
       "        uid  num_commits\n",
       "0    user_0            3\n",
       "1    user_1           62\n",
       "2   user_10           20\n",
       "3   user_11            7\n",
       "4   user_12           86\n",
       "5   user_13           52\n",
       "6   user_14           61\n",
       "7   user_15           23\n",
       "8   user_16           41\n",
       "9   user_17           51\n",
       "10  user_18            5\n",
       "11  user_19          118\n",
       "12   user_2           46\n",
       "13  user_20           57\n",
       "14  user_21           65\n",
       "15  user_22            5\n",
       "16  user_23            6\n",
       "17  user_24           37\n",
       "18  user_25           79\n",
       "19  user_26           36\n",
       "20  user_27           27\n",
       "21  user_28           60\n",
       "22  user_29           51\n",
       "23   user_3           18\n",
       "24  user_30           34\n",
       "25  user_31          128\n",
       "26   user_4           40\n",
       "27   user_6           15\n",
       "28   user_7            8\n",
       "29   user_8           71"
      ]
     },
     "execution_count": 16,
     "metadata": {},
     "output_type": "execute_result"
    }
   ],
   "source": [
    "query = '''\n",
    "SELECT uid, COUNT(*) AS num_commits\n",
    "FROM checker\n",
    "WHERE uid LIKE 'user_%'\n",
    "AND labname <> 'project1'\n",
    "GROUP BY uid\n",
    "'''\n",
    "commits = pd.io.sql.read_sql(query, connect)\n",
    "commits"
   ]
  },
  {
   "cell_type": "markdown",
   "metadata": {},
   "source": [
    "Создадим таблицу с количеством просмотров"
   ]
  },
  {
   "cell_type": "code",
   "execution_count": 17,
   "metadata": {},
   "outputs": [
    {
     "data": {
      "text/html": [
       "<div>\n",
       "<style scoped>\n",
       "    .dataframe tbody tr th:only-of-type {\n",
       "        vertical-align: middle;\n",
       "    }\n",
       "\n",
       "    .dataframe tbody tr th {\n",
       "        vertical-align: top;\n",
       "    }\n",
       "\n",
       "    .dataframe thead th {\n",
       "        text-align: right;\n",
       "    }\n",
       "</style>\n",
       "<table border=\"1\" class=\"dataframe\">\n",
       "  <thead>\n",
       "    <tr style=\"text-align: right;\">\n",
       "      <th></th>\n",
       "      <th>uid</th>\n",
       "      <th>num_views</th>\n",
       "    </tr>\n",
       "  </thead>\n",
       "  <tbody>\n",
       "    <tr>\n",
       "      <th>0</th>\n",
       "      <td>user_1</td>\n",
       "      <td>28</td>\n",
       "    </tr>\n",
       "    <tr>\n",
       "      <th>1</th>\n",
       "      <td>user_10</td>\n",
       "      <td>89</td>\n",
       "    </tr>\n",
       "    <tr>\n",
       "      <th>2</th>\n",
       "      <td>user_14</td>\n",
       "      <td>143</td>\n",
       "    </tr>\n",
       "    <tr>\n",
       "      <th>3</th>\n",
       "      <td>user_17</td>\n",
       "      <td>47</td>\n",
       "    </tr>\n",
       "    <tr>\n",
       "      <th>4</th>\n",
       "      <td>user_18</td>\n",
       "      <td>3</td>\n",
       "    </tr>\n",
       "    <tr>\n",
       "      <th>5</th>\n",
       "      <td>user_19</td>\n",
       "      <td>16</td>\n",
       "    </tr>\n",
       "    <tr>\n",
       "      <th>6</th>\n",
       "      <td>user_21</td>\n",
       "      <td>10</td>\n",
       "    </tr>\n",
       "    <tr>\n",
       "      <th>7</th>\n",
       "      <td>user_25</td>\n",
       "      <td>179</td>\n",
       "    </tr>\n",
       "    <tr>\n",
       "      <th>8</th>\n",
       "      <td>user_28</td>\n",
       "      <td>149</td>\n",
       "    </tr>\n",
       "    <tr>\n",
       "      <th>9</th>\n",
       "      <td>user_3</td>\n",
       "      <td>317</td>\n",
       "    </tr>\n",
       "    <tr>\n",
       "      <th>10</th>\n",
       "      <td>user_30</td>\n",
       "      <td>3</td>\n",
       "    </tr>\n",
       "    <tr>\n",
       "      <th>11</th>\n",
       "      <td>user_5</td>\n",
       "      <td>1</td>\n",
       "    </tr>\n",
       "    <tr>\n",
       "      <th>12</th>\n",
       "      <td>user_9</td>\n",
       "      <td>2</td>\n",
       "    </tr>\n",
       "  </tbody>\n",
       "</table>\n",
       "</div>"
      ],
      "text/plain": [
       "        uid  num_views\n",
       "0    user_1         28\n",
       "1   user_10         89\n",
       "2   user_14        143\n",
       "3   user_17         47\n",
       "4   user_18          3\n",
       "5   user_19         16\n",
       "6   user_21         10\n",
       "7   user_25        179\n",
       "8   user_28        149\n",
       "9    user_3        317\n",
       "10  user_30          3\n",
       "11   user_5          1\n",
       "12   user_9          2"
      ]
     },
     "execution_count": 17,
     "metadata": {},
     "output_type": "execute_result"
    }
   ],
   "source": [
    "query = '''\n",
    "SELECT uid, COUNT(*) AS num_views\n",
    "FROM pageviews\n",
    "WHERE uid LIKE 'user_%'\n",
    "GROUP BY uid\n",
    "'''\n",
    "num_views = pd.io.sql.read_sql(query, connect)\n",
    "num_views"
   ]
  },
  {
   "cell_type": "markdown",
   "metadata": {},
   "source": [
    "Создадим таблицу с дельтой: разница между первым коммитом и дедлайном лаборатории (подробно, как мы это делали в Day06 ех03). (Не принимать во внимание project1 для расчета средней разницы и количества коммитов)"
   ]
  },
  {
   "cell_type": "code",
   "execution_count": 18,
   "metadata": {},
   "outputs": [
    {
     "ename": "DatabaseError",
     "evalue": "Execution failed on sql '\nSELECT uid,\n       CAST((JulianDay(test.first_commit_ts) -\n            JulianDay(DATETIME(deadlines.deadlines, 'unixepoch'))\n                  ) * 24 AS Integer\n           ) AS delta\nFROM test\nLEFT JOIN deadlines ON test.labname=deadlines.labs\nWHERE labname <> 'project1'\n': no such table: test",
     "output_type": "error",
     "traceback": [
      "\u001b[0;31m---------------------------------------------------------------------------\u001b[0m",
      "\u001b[0;31mOperationalError\u001b[0m                          Traceback (most recent call last)",
      "File \u001b[0;32m~/Library/Python/3.8/lib/python/site-packages/pandas/io/sql.py:2019\u001b[0m, in \u001b[0;36mSQLiteDatabase.execute\u001b[0;34m(self, *args, **kwargs)\u001b[0m\n\u001b[1;32m   <a href='file:///Users/hcolumbu/Library/Python/3.8/lib/python/site-packages/pandas/io/sql.py?line=2017'>2018</a>\u001b[0m \u001b[39mtry\u001b[39;00m:\n\u001b[0;32m-> <a href='file:///Users/hcolumbu/Library/Python/3.8/lib/python/site-packages/pandas/io/sql.py?line=2018'>2019</a>\u001b[0m     cur\u001b[39m.\u001b[39;49mexecute(\u001b[39m*\u001b[39;49margs, \u001b[39m*\u001b[39;49m\u001b[39m*\u001b[39;49mkwargs)\n\u001b[1;32m   <a href='file:///Users/hcolumbu/Library/Python/3.8/lib/python/site-packages/pandas/io/sql.py?line=2019'>2020</a>\u001b[0m     \u001b[39mreturn\u001b[39;00m cur\n",
      "\u001b[0;31mOperationalError\u001b[0m: no such table: test",
      "\nThe above exception was the direct cause of the following exception:\n",
      "\u001b[0;31mDatabaseError\u001b[0m                             Traceback (most recent call last)",
      "Cell \u001b[0;32mIn [18], line 11\u001b[0m\n\u001b[1;32m      1\u001b[0m query \u001b[38;5;241m=\u001b[39m \u001b[38;5;124m'''\u001b[39m\n\u001b[1;32m      2\u001b[0m \u001b[38;5;124mSELECT uid,\u001b[39m\n\u001b[1;32m      3\u001b[0m \u001b[38;5;124m       CAST((JulianDay(test.first_commit_ts) -\u001b[39m\n\u001b[0;32m   (...)\u001b[0m\n\u001b[1;32m      9\u001b[0m \u001b[38;5;124mWHERE labname <> \u001b[39m\u001b[38;5;124m'\u001b[39m\u001b[38;5;124mproject1\u001b[39m\u001b[38;5;124m'\u001b[39m\n\u001b[1;32m     10\u001b[0m \u001b[38;5;124m'''\u001b[39m\n\u001b[0;32m---> 11\u001b[0m delta \u001b[38;5;241m=\u001b[39m \u001b[43mpd\u001b[49m\u001b[38;5;241;43m.\u001b[39;49m\u001b[43mio\u001b[49m\u001b[38;5;241;43m.\u001b[39;49m\u001b[43msql\u001b[49m\u001b[38;5;241;43m.\u001b[39;49m\u001b[43mread_sql\u001b[49m\u001b[43m(\u001b[49m\u001b[43mquery\u001b[49m\u001b[43m,\u001b[49m\u001b[43m \u001b[49m\u001b[43mconnect\u001b[49m\u001b[43m)\u001b[49m\n\u001b[1;32m     12\u001b[0m delta\n",
      "File \u001b[0;32m~/Library/Python/3.8/lib/python/site-packages/pandas/io/sql.py:565\u001b[0m, in \u001b[0;36mread_sql\u001b[0;34m(sql, con, index_col, coerce_float, params, parse_dates, columns, chunksize)\u001b[0m\n\u001b[1;32m    <a href='file:///Users/hcolumbu/Library/Python/3.8/lib/python/site-packages/pandas/io/sql.py?line=561'>562</a>\u001b[0m pandas_sql \u001b[39m=\u001b[39m pandasSQL_builder(con)\n\u001b[1;32m    <a href='file:///Users/hcolumbu/Library/Python/3.8/lib/python/site-packages/pandas/io/sql.py?line=563'>564</a>\u001b[0m \u001b[39mif\u001b[39;00m \u001b[39misinstance\u001b[39m(pandas_sql, SQLiteDatabase):\n\u001b[0;32m--> <a href='file:///Users/hcolumbu/Library/Python/3.8/lib/python/site-packages/pandas/io/sql.py?line=564'>565</a>\u001b[0m     \u001b[39mreturn\u001b[39;00m pandas_sql\u001b[39m.\u001b[39;49mread_query(\n\u001b[1;32m    <a href='file:///Users/hcolumbu/Library/Python/3.8/lib/python/site-packages/pandas/io/sql.py?line=565'>566</a>\u001b[0m         sql,\n\u001b[1;32m    <a href='file:///Users/hcolumbu/Library/Python/3.8/lib/python/site-packages/pandas/io/sql.py?line=566'>567</a>\u001b[0m         index_col\u001b[39m=\u001b[39;49mindex_col,\n\u001b[1;32m    <a href='file:///Users/hcolumbu/Library/Python/3.8/lib/python/site-packages/pandas/io/sql.py?line=567'>568</a>\u001b[0m         params\u001b[39m=\u001b[39;49mparams,\n\u001b[1;32m    <a href='file:///Users/hcolumbu/Library/Python/3.8/lib/python/site-packages/pandas/io/sql.py?line=568'>569</a>\u001b[0m         coerce_float\u001b[39m=\u001b[39;49mcoerce_float,\n\u001b[1;32m    <a href='file:///Users/hcolumbu/Library/Python/3.8/lib/python/site-packages/pandas/io/sql.py?line=569'>570</a>\u001b[0m         parse_dates\u001b[39m=\u001b[39;49mparse_dates,\n\u001b[1;32m    <a href='file:///Users/hcolumbu/Library/Python/3.8/lib/python/site-packages/pandas/io/sql.py?line=570'>571</a>\u001b[0m         chunksize\u001b[39m=\u001b[39;49mchunksize,\n\u001b[1;32m    <a href='file:///Users/hcolumbu/Library/Python/3.8/lib/python/site-packages/pandas/io/sql.py?line=571'>572</a>\u001b[0m     )\n\u001b[1;32m    <a href='file:///Users/hcolumbu/Library/Python/3.8/lib/python/site-packages/pandas/io/sql.py?line=573'>574</a>\u001b[0m \u001b[39mtry\u001b[39;00m:\n\u001b[1;32m    <a href='file:///Users/hcolumbu/Library/Python/3.8/lib/python/site-packages/pandas/io/sql.py?line=574'>575</a>\u001b[0m     _is_table_name \u001b[39m=\u001b[39m pandas_sql\u001b[39m.\u001b[39mhas_table(sql)\n",
      "File \u001b[0;32m~/Library/Python/3.8/lib/python/site-packages/pandas/io/sql.py:2079\u001b[0m, in \u001b[0;36mSQLiteDatabase.read_query\u001b[0;34m(self, sql, index_col, coerce_float, params, parse_dates, chunksize, dtype)\u001b[0m\n\u001b[1;32m   <a href='file:///Users/hcolumbu/Library/Python/3.8/lib/python/site-packages/pandas/io/sql.py?line=2066'>2067</a>\u001b[0m \u001b[39mdef\u001b[39;00m \u001b[39mread_query\u001b[39m(\n\u001b[1;32m   <a href='file:///Users/hcolumbu/Library/Python/3.8/lib/python/site-packages/pandas/io/sql.py?line=2067'>2068</a>\u001b[0m     \u001b[39mself\u001b[39m,\n\u001b[1;32m   <a href='file:///Users/hcolumbu/Library/Python/3.8/lib/python/site-packages/pandas/io/sql.py?line=2068'>2069</a>\u001b[0m     sql,\n\u001b[0;32m   (...)\u001b[0m\n\u001b[1;32m   <a href='file:///Users/hcolumbu/Library/Python/3.8/lib/python/site-packages/pandas/io/sql.py?line=2074'>2075</a>\u001b[0m     dtype: DtypeArg \u001b[39m|\u001b[39m \u001b[39mNone\u001b[39;00m \u001b[39m=\u001b[39m \u001b[39mNone\u001b[39;00m,\n\u001b[1;32m   <a href='file:///Users/hcolumbu/Library/Python/3.8/lib/python/site-packages/pandas/io/sql.py?line=2075'>2076</a>\u001b[0m ) \u001b[39m-\u001b[39m\u001b[39m>\u001b[39m DataFrame \u001b[39m|\u001b[39m Iterator[DataFrame]:\n\u001b[1;32m   <a href='file:///Users/hcolumbu/Library/Python/3.8/lib/python/site-packages/pandas/io/sql.py?line=2077'>2078</a>\u001b[0m     args \u001b[39m=\u001b[39m _convert_params(sql, params)\n\u001b[0;32m-> <a href='file:///Users/hcolumbu/Library/Python/3.8/lib/python/site-packages/pandas/io/sql.py?line=2078'>2079</a>\u001b[0m     cursor \u001b[39m=\u001b[39m \u001b[39mself\u001b[39;49m\u001b[39m.\u001b[39;49mexecute(\u001b[39m*\u001b[39;49margs)\n\u001b[1;32m   <a href='file:///Users/hcolumbu/Library/Python/3.8/lib/python/site-packages/pandas/io/sql.py?line=2079'>2080</a>\u001b[0m     columns \u001b[39m=\u001b[39m [col_desc[\u001b[39m0\u001b[39m] \u001b[39mfor\u001b[39;00m col_desc \u001b[39min\u001b[39;00m cursor\u001b[39m.\u001b[39mdescription]\n\u001b[1;32m   <a href='file:///Users/hcolumbu/Library/Python/3.8/lib/python/site-packages/pandas/io/sql.py?line=2081'>2082</a>\u001b[0m     \u001b[39mif\u001b[39;00m chunksize \u001b[39mis\u001b[39;00m \u001b[39mnot\u001b[39;00m \u001b[39mNone\u001b[39;00m:\n",
      "File \u001b[0;32m~/Library/Python/3.8/lib/python/site-packages/pandas/io/sql.py:2031\u001b[0m, in \u001b[0;36mSQLiteDatabase.execute\u001b[0;34m(self, *args, **kwargs)\u001b[0m\n\u001b[1;32m   <a href='file:///Users/hcolumbu/Library/Python/3.8/lib/python/site-packages/pandas/io/sql.py?line=2027'>2028</a>\u001b[0m     \u001b[39mraise\u001b[39;00m ex \u001b[39mfrom\u001b[39;00m \u001b[39minner_exc\u001b[39;00m\n\u001b[1;32m   <a href='file:///Users/hcolumbu/Library/Python/3.8/lib/python/site-packages/pandas/io/sql.py?line=2029'>2030</a>\u001b[0m ex \u001b[39m=\u001b[39m DatabaseError(\u001b[39mf\u001b[39m\u001b[39m\"\u001b[39m\u001b[39mExecution failed on sql \u001b[39m\u001b[39m'\u001b[39m\u001b[39m{\u001b[39;00margs[\u001b[39m0\u001b[39m]\u001b[39m}\u001b[39;00m\u001b[39m'\u001b[39m\u001b[39m: \u001b[39m\u001b[39m{\u001b[39;00mexc\u001b[39m}\u001b[39;00m\u001b[39m\"\u001b[39m)\n\u001b[0;32m-> <a href='file:///Users/hcolumbu/Library/Python/3.8/lib/python/site-packages/pandas/io/sql.py?line=2030'>2031</a>\u001b[0m \u001b[39mraise\u001b[39;00m ex \u001b[39mfrom\u001b[39;00m \u001b[39mexc\u001b[39;00m\n",
      "\u001b[0;31mDatabaseError\u001b[0m: Execution failed on sql '\nSELECT uid,\n       CAST((JulianDay(test.first_commit_ts) -\n            JulianDay(DATETIME(deadlines.deadlines, 'unixepoch'))\n                  ) * 24 AS Integer\n           ) AS delta\nFROM test\nLEFT JOIN deadlines ON test.labname=deadlines.labs\nWHERE labname <> 'project1'\n': no such table: test"
     ]
    }
   ],
   "source": [
    "query = '''\n",
    "SELECT uid,\n",
    "       CAST((JulianDay(test.first_commit_ts) -\n",
    "            JulianDay(DATETIME(deadlines.deadlines, 'unixepoch'))\n",
    "                  ) * 24 AS Integer\n",
    "           ) AS delta\n",
    "FROM test\n",
    "LEFT JOIN deadlines ON test.labname=deadlines.labs\n",
    "WHERE labname <> 'project1'\n",
    "'''\n",
    "delta = pd.io.sql.read_sql(query, connect)\n",
    "delta"
   ]
  },
  {
   "cell_type": "markdown",
   "metadata": {},
   "source": [
    "Найдем среднюю дельту по каждому пользователю"
   ]
  },
  {
   "cell_type": "code",
   "execution_count": 19,
   "metadata": {},
   "outputs": [
    {
     "ename": "NameError",
     "evalue": "name 'delta' is not defined",
     "output_type": "error",
     "traceback": [
      "\u001b[0;31m---------------------------------------------------------------------------\u001b[0m",
      "\u001b[0;31mNameError\u001b[0m                                 Traceback (most recent call last)",
      "Cell \u001b[0;32mIn [19], line 1\u001b[0m\n\u001b[0;32m----> 1\u001b[0m delta \u001b[38;5;241m=\u001b[39m \u001b[43mdelta\u001b[49m\u001b[38;5;241m.\u001b[39mgroupby([\u001b[38;5;124m'\u001b[39m\u001b[38;5;124muid\u001b[39m\u001b[38;5;124m'\u001b[39m])\u001b[38;5;241m.\u001b[39mmean()\n",
      "\u001b[0;31mNameError\u001b[0m: name 'delta' is not defined"
     ]
    }
   ],
   "source": [
    "delta = delta.groupby(['uid']).mean()"
   ]
  },
  {
   "cell_type": "markdown",
   "metadata": {},
   "source": [
    "Объединим все это в один датафрейм, в котором каждый пользователь тестовой группы имеет среднюю разницу между первым коммитом и дедлайном лаборатории, количество просмотров страниц и количество коммитов (не принимать во внимание project1 для расчета средней разницы и количества коммитов"
   ]
  },
  {
   "cell_type": "code",
   "execution_count": 20,
   "metadata": {},
   "outputs": [
    {
     "ename": "NameError",
     "evalue": "name 'delta' is not defined",
     "output_type": "error",
     "traceback": [
      "\u001b[0;31m---------------------------------------------------------------------------\u001b[0m",
      "\u001b[0;31mNameError\u001b[0m                                 Traceback (most recent call last)",
      "Cell \u001b[0;32mIn [20], line 2\u001b[0m\n\u001b[1;32m      1\u001b[0m pivot_table \u001b[38;5;241m=\u001b[39m num_views\u001b[38;5;241m.\u001b[39mmerge(commits, on\u001b[38;5;241m=\u001b[39m[\u001b[38;5;124m'\u001b[39m\u001b[38;5;124muid\u001b[39m\u001b[38;5;124m'\u001b[39m])\n\u001b[0;32m----> 2\u001b[0m pivot_table \u001b[38;5;241m=\u001b[39m \u001b[43mdelta\u001b[49m\u001b[38;5;241m.\u001b[39mmerge(pivot_table, on\u001b[38;5;241m=\u001b[39m[\u001b[38;5;124m'\u001b[39m\u001b[38;5;124muid\u001b[39m\u001b[38;5;124m'\u001b[39m])\n\u001b[1;32m      3\u001b[0m pivot_table \u001b[38;5;241m=\u001b[39m pivot_table\u001b[38;5;241m.\u001b[39mdrop(columns \u001b[38;5;241m=\u001b[39m [\u001b[38;5;124m'\u001b[39m\u001b[38;5;124muid\u001b[39m\u001b[38;5;124m'\u001b[39m])\n\u001b[1;32m      4\u001b[0m pivot_table\n",
      "\u001b[0;31mNameError\u001b[0m: name 'delta' is not defined"
     ]
    }
   ],
   "source": [
    "pivot_table = num_views.merge(commits, on=['uid'])\n",
    "pivot_table = delta.merge(pivot_table, on=['uid'])\n",
    "pivot_table = pivot_table.drop(columns = ['uid'])\n",
    "pivot_table"
   ]
  },
  {
   "cell_type": "markdown",
   "metadata": {},
   "source": [
    "По диагоналям отображена плотность ядра (KDE). KDE - это непараметрический способ оценки функции плотности вероятности любой переменной."
   ]
  },
  {
   "cell_type": "code",
   "execution_count": 21,
   "metadata": {},
   "outputs": [
    {
     "ename": "ModuleNotFoundError",
     "evalue": "No module named 'scipy'",
     "output_type": "error",
     "traceback": [
      "\u001b[0;31m---------------------------------------------------------------------------\u001b[0m",
      "\u001b[0;31mModuleNotFoundError\u001b[0m                       Traceback (most recent call last)",
      "Cell \u001b[0;32mIn [21], line 1\u001b[0m\n\u001b[0;32m----> 1\u001b[0m ax \u001b[38;5;241m=\u001b[39m \u001b[43mscatter_matrix\u001b[49m\u001b[43m(\u001b[49m\u001b[43mpivot_table\u001b[49m\u001b[43m,\u001b[49m\n\u001b[1;32m      2\u001b[0m \u001b[43m                    \u001b[49m\u001b[43mfigsize\u001b[49m\u001b[38;5;241;43m=\u001b[39;49m\u001b[43m(\u001b[49m\u001b[38;5;241;43m15\u001b[39;49m\u001b[43m,\u001b[49m\u001b[43m \u001b[49m\u001b[38;5;241;43m8\u001b[39;49m\u001b[43m)\u001b[49m\u001b[43m,\u001b[49m\n\u001b[1;32m      3\u001b[0m \u001b[43m                    \u001b[49m\u001b[43mdiagonal\u001b[49m\u001b[38;5;241;43m=\u001b[39;49m\u001b[38;5;124;43m'\u001b[39;49m\u001b[38;5;124;43mkde\u001b[39;49m\u001b[38;5;124;43m'\u001b[39;49m\u001b[43m,\u001b[49m\n\u001b[1;32m      4\u001b[0m \u001b[43m                    \u001b[49m\u001b[43mdensity_kwds\u001b[49m\u001b[38;5;241;43m=\u001b[39;49m\u001b[38;5;28;43mdict\u001b[39;49m\u001b[43m(\u001b[49m\u001b[43mcolor\u001b[49m\u001b[38;5;241;43m=\u001b[39;49m\u001b[38;5;124;43m'\u001b[39;49m\u001b[38;5;124;43m#059ABF\u001b[39;49m\u001b[38;5;124;43m'\u001b[39;49m\u001b[43m,\u001b[49m\u001b[43m \u001b[49m\u001b[43mlinewidth\u001b[49m\u001b[38;5;241;43m=\u001b[39;49m\u001b[38;5;241;43m3\u001b[39;49m\u001b[43m)\u001b[49m\u001b[43m,\u001b[49m\n\u001b[1;32m      5\u001b[0m \u001b[43m                    \u001b[49m\u001b[43ms\u001b[49m\u001b[38;5;241;43m=\u001b[39;49m\u001b[38;5;241;43m200\u001b[39;49m\u001b[43m,\u001b[49m\n\u001b[1;32m      6\u001b[0m \u001b[43m                    \u001b[49m\u001b[43mcolor\u001b[49m\u001b[38;5;241;43m=\u001b[39;49m\u001b[38;5;124;43m'\u001b[39;49m\u001b[38;5;124;43mred\u001b[39;49m\u001b[38;5;124;43m'\u001b[39;49m\u001b[43m)\u001b[49m\n",
      "File \u001b[0;32m~/Library/Python/3.8/lib/python/site-packages/pandas/plotting/_misc.py:160\u001b[0m, in \u001b[0;36mscatter_matrix\u001b[0;34m(frame, alpha, figsize, ax, grid, diagonal, marker, density_kwds, hist_kwds, range_padding, **kwargs)\u001b[0m\n\u001b[1;32m    <a href='file:///Users/hcolumbu/Library/Python/3.8/lib/python/site-packages/pandas/plotting/_misc.py?line=100'>101</a>\u001b[0m \u001b[39m\"\"\"\u001b[39;00m\n\u001b[1;32m    <a href='file:///Users/hcolumbu/Library/Python/3.8/lib/python/site-packages/pandas/plotting/_misc.py?line=101'>102</a>\u001b[0m \u001b[39mDraw a matrix of scatter plots.\u001b[39;00m\n\u001b[1;32m    <a href='file:///Users/hcolumbu/Library/Python/3.8/lib/python/site-packages/pandas/plotting/_misc.py?line=102'>103</a>\u001b[0m \n\u001b[0;32m   (...)\u001b[0m\n\u001b[1;32m    <a href='file:///Users/hcolumbu/Library/Python/3.8/lib/python/site-packages/pandas/plotting/_misc.py?line=156'>157</a>\u001b[0m \u001b[39m        <AxesSubplot: xlabel='D', ylabel='D'>]], dtype=object)\u001b[39;00m\n\u001b[1;32m    <a href='file:///Users/hcolumbu/Library/Python/3.8/lib/python/site-packages/pandas/plotting/_misc.py?line=157'>158</a>\u001b[0m \u001b[39m\"\"\"\u001b[39;00m\n\u001b[1;32m    <a href='file:///Users/hcolumbu/Library/Python/3.8/lib/python/site-packages/pandas/plotting/_misc.py?line=158'>159</a>\u001b[0m plot_backend \u001b[39m=\u001b[39m _get_plot_backend(\u001b[39m\"\u001b[39m\u001b[39mmatplotlib\u001b[39m\u001b[39m\"\u001b[39m)\n\u001b[0;32m--> <a href='file:///Users/hcolumbu/Library/Python/3.8/lib/python/site-packages/pandas/plotting/_misc.py?line=159'>160</a>\u001b[0m \u001b[39mreturn\u001b[39;00m plot_backend\u001b[39m.\u001b[39;49mscatter_matrix(\n\u001b[1;32m    <a href='file:///Users/hcolumbu/Library/Python/3.8/lib/python/site-packages/pandas/plotting/_misc.py?line=160'>161</a>\u001b[0m     frame\u001b[39m=\u001b[39;49mframe,\n\u001b[1;32m    <a href='file:///Users/hcolumbu/Library/Python/3.8/lib/python/site-packages/pandas/plotting/_misc.py?line=161'>162</a>\u001b[0m     alpha\u001b[39m=\u001b[39;49malpha,\n\u001b[1;32m    <a href='file:///Users/hcolumbu/Library/Python/3.8/lib/python/site-packages/pandas/plotting/_misc.py?line=162'>163</a>\u001b[0m     figsize\u001b[39m=\u001b[39;49mfigsize,\n\u001b[1;32m    <a href='file:///Users/hcolumbu/Library/Python/3.8/lib/python/site-packages/pandas/plotting/_misc.py?line=163'>164</a>\u001b[0m     ax\u001b[39m=\u001b[39;49max,\n\u001b[1;32m    <a href='file:///Users/hcolumbu/Library/Python/3.8/lib/python/site-packages/pandas/plotting/_misc.py?line=164'>165</a>\u001b[0m     grid\u001b[39m=\u001b[39;49mgrid,\n\u001b[1;32m    <a href='file:///Users/hcolumbu/Library/Python/3.8/lib/python/site-packages/pandas/plotting/_misc.py?line=165'>166</a>\u001b[0m     diagonal\u001b[39m=\u001b[39;49mdiagonal,\n\u001b[1;32m    <a href='file:///Users/hcolumbu/Library/Python/3.8/lib/python/site-packages/pandas/plotting/_misc.py?line=166'>167</a>\u001b[0m     marker\u001b[39m=\u001b[39;49mmarker,\n\u001b[1;32m    <a href='file:///Users/hcolumbu/Library/Python/3.8/lib/python/site-packages/pandas/plotting/_misc.py?line=167'>168</a>\u001b[0m     density_kwds\u001b[39m=\u001b[39;49mdensity_kwds,\n\u001b[1;32m    <a href='file:///Users/hcolumbu/Library/Python/3.8/lib/python/site-packages/pandas/plotting/_misc.py?line=168'>169</a>\u001b[0m     hist_kwds\u001b[39m=\u001b[39;49mhist_kwds,\n\u001b[1;32m    <a href='file:///Users/hcolumbu/Library/Python/3.8/lib/python/site-packages/pandas/plotting/_misc.py?line=169'>170</a>\u001b[0m     range_padding\u001b[39m=\u001b[39;49mrange_padding,\n\u001b[1;32m    <a href='file:///Users/hcolumbu/Library/Python/3.8/lib/python/site-packages/pandas/plotting/_misc.py?line=170'>171</a>\u001b[0m     \u001b[39m*\u001b[39;49m\u001b[39m*\u001b[39;49mkwargs,\n\u001b[1;32m    <a href='file:///Users/hcolumbu/Library/Python/3.8/lib/python/site-packages/pandas/plotting/_misc.py?line=171'>172</a>\u001b[0m )\n",
      "File \u001b[0;32m~/Library/Python/3.8/lib/python/site-packages/pandas/plotting/_matplotlib/misc.py:85\u001b[0m, in \u001b[0;36mscatter_matrix\u001b[0;34m(frame, alpha, figsize, ax, grid, diagonal, marker, density_kwds, hist_kwds, range_padding, **kwds)\u001b[0m\n\u001b[1;32m     <a href='file:///Users/hcolumbu/Library/Python/3.8/lib/python/site-packages/pandas/plotting/_matplotlib/misc.py?line=81'>82</a>\u001b[0m     ax\u001b[39m.\u001b[39mhist(values, \u001b[39m*\u001b[39m\u001b[39m*\u001b[39mhist_kwds)\n\u001b[1;32m     <a href='file:///Users/hcolumbu/Library/Python/3.8/lib/python/site-packages/pandas/plotting/_matplotlib/misc.py?line=83'>84</a>\u001b[0m \u001b[39melif\u001b[39;00m diagonal \u001b[39min\u001b[39;00m (\u001b[39m\"\u001b[39m\u001b[39mkde\u001b[39m\u001b[39m\"\u001b[39m, \u001b[39m\"\u001b[39m\u001b[39mdensity\u001b[39m\u001b[39m\"\u001b[39m):\n\u001b[0;32m---> <a href='file:///Users/hcolumbu/Library/Python/3.8/lib/python/site-packages/pandas/plotting/_matplotlib/misc.py?line=84'>85</a>\u001b[0m     \u001b[39mfrom\u001b[39;00m \u001b[39mscipy\u001b[39;00m\u001b[39m.\u001b[39;00m\u001b[39mstats\u001b[39;00m \u001b[39mimport\u001b[39;00m gaussian_kde\n\u001b[1;32m     <a href='file:///Users/hcolumbu/Library/Python/3.8/lib/python/site-packages/pandas/plotting/_matplotlib/misc.py?line=86'>87</a>\u001b[0m     y \u001b[39m=\u001b[39m values\n\u001b[1;32m     <a href='file:///Users/hcolumbu/Library/Python/3.8/lib/python/site-packages/pandas/plotting/_matplotlib/misc.py?line=87'>88</a>\u001b[0m     gkde \u001b[39m=\u001b[39m gaussian_kde(y)\n",
      "\u001b[0;31mModuleNotFoundError\u001b[0m: No module named 'scipy'"
     ]
    },
    {
     "data": {
      "image/png": "[encoded data removed]",
      "text/plain": [
       "<Figure size 1500x800 with 4 Axes>"
      ]
     },
     "metadata": {},
     "output_type": "display_data"
    }
   ],
   "source": [
    "ax = scatter_matrix(pivot_table,\n",
    "                    figsize=(15, 8),\n",
    "                    diagonal='kde',\n",
    "                    density_kwds=dict(color='#059ABF', linewidth=3),\n",
    "                    s=200,\n",
    "                    color='red')"
   ]
  },
  {
   "cell_type": "markdown",
   "metadata": {},
   "source": [
    "Можем ли мы сказать, что если у пользователя мало просмотров страниц, то он, скорее всего, у вас мало коммитов?\n",
    "\n",
    "Нет\n",
    "\n",
    "Можем ли мы сказать, что если у пользователя мало просмотров страниц, небольшая средняя разница между первым коммитом и крайним сроком лаборатории?\n",
    "\n",
    "Нет\n",
    "\n",
    "Можем ли мы сказать, что есть много пользователей с небольшим количеством коммитов и мало с большим количеством коммитов?\n",
    "\n",
    "Можно сказать, что пользователей с небольшим количеством коммитов больше, чем с малым. Однако для вопроса много ли их, нужно понимать, какое значение мы примем за \"много\".\n",
    "\n",
    "Можем ли мы сказать, что есть много пользователей с небольшой средней разницей и несколько с большой средней разницей?\n",
    "\n",
    "Нет, но как и в предудыщем случае встает вопрос: какое значение мы примем за \"много\"."
   ]
  },
  {
   "cell_type": "markdown",
   "metadata": {},
   "source": [
    "### Close the connection"
   ]
  },
  {
   "cell_type": "code",
   "execution_count": 22,
   "metadata": {},
   "outputs": [
    {
     "name": "stdout",
     "output_type": "stream",
     "text": [
      "Connection to SQLite closed\n"
     ]
    }
   ],
   "source": [
    "connect.close()\n",
    "print('Connection to SQLite closed')"
   ]
  }
 ],
 "metadata": {
  "interpreter": {
   "hash": "31f2aee4e71d21fbe5cf8b01ff0e069b9275f58929596ceb00d14d90e3e16cd6"
  },
  "kernelspec": {
   "display_name": "Python 3.8.9 64-bit",
   "language": "python",
   "name": "python3"
  },
  "language_info": {
   "codemirror_mode": {
    "name": "ipython",
    "version": 3
   },
   "file_extension": ".py",
   "mimetype": "text/x-python",
   "name": "python",
   "nbconvert_exporter": "python",
   "pygments_lexer": "ipython3",
   "version": "3.8.9"
  },
  "orig_nbformat": 4
 },
 "nbformat": 4,
 "nbformat_minor": 2
}
